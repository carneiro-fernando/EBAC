{
  "nbformat": 4,
  "nbformat_minor": 0,
  "metadata": {
    "colab": {
      "provenance": [],
      "include_colab_link": true
    },
    "kernelspec": {
      "name": "python3",
      "display_name": "Python 3"
    }
  },
  "cells": [
    {
      "cell_type": "markdown",
      "metadata": {
        "id": "view-in-github",
        "colab_type": "text"
      },
      "source": [
        "<a href=\"https://colab.research.google.com/github/carneiro-fernando/EBAC/blob/main/Projetos/An%C3%A1lise_de_Dados_Interativa_COVID_19_Dashboard.ipynb\" target=\"_parent\"><img src=\"https://colab.research.google.com/assets/colab-badge.svg\" alt=\"Open In Colab\"/></a>"
      ]
    },
    {
      "cell_type": "markdown",
      "metadata": {
        "id": "KJqp9AANOCtf"
      },
      "source": [
        "<img src=\"https://github.com/carneiro-fernando/EBAC/blob/main/assets/Images/coronavirus_banner.jpg?raw=true\" alt=\"covid-banner\">\n",
        "\n",
        "---\n",
        "\n",
        "# Análise de Dados: COVID-19 Dashboard\n",
        "\n",
        "---"
      ]
    },
    {
      "cell_type": "markdown",
      "metadata": {
        "id": "d9jDtUbDOE1-"
      },
      "source": [
        "## Sumário\n",
        "\n",
        "O notebook está organizado como segue:\n",
        "\n",
        "1. [Introdução](#intro) - Introdução ao problema e às fontes usadas\n",
        "2. [Análise Exploratória de Dados.](#data-analysis) - Extração, transformação e carregamento (ETL) e uma breve análise dos dados.\n",
        "3. [Visualização Interativa de Dados.](#visualization) - Análise interativa dos dados.\n",
        "4. [Storytelling](#storytelling) - Insights por meio de narrativas\n"
      ]
    },
    {
      "cell_type": "markdown",
      "metadata": {
        "id": "SmoHgt-lwkpD"
      },
      "source": [
        "---"
      ]
    },
    {
      "cell_type": "markdown",
      "source": [
        "### *TLDR*\n",
        "\n",
        " - **Dashboard**:  Google Data Studio ([link](https://lookerstudio.google.com/reporting/4a54b790-0672-486e-81fd-037fc2506a06)).\n",
        " - **Processamento**: Kaggle Notebook ([link](https://www.kaggle.com/code/carneirofernando/an-lise-de-dados-e-dashboard-impacto-do-covid19)).\n",
        " -  **Fonte de dados**: Universidade de Oxford ([link](https://github.com/owid/covid-19-data/tree/master/public/data))."
      ],
      "metadata": {
        "id": "0R5puSwyE2-e"
      }
    },
    {
      "cell_type": "markdown",
      "source": [
        "<a id='intro'></a>\n",
        "\n",
        "## 1. Introdução"
      ],
      "metadata": {
        "id": "7Wsp9ZsqCBco"
      }
    },
    {
      "cell_type": "markdown",
      "source": [
        "### 1.1 Pandemia do COVID 19\n",
        "\n",
        "> A pandemia de COVID-19 é uma pandemia global de doença causada pelo coronavírus SARS-CoV-2. O vírus foi identificado pela primeira vez na cidade de Wuhan, na China, em dezembro de 2019. Desde então, o vírus se espalhou para mais de 200 países e territórios, infectando mais de 500 milhões de pessoas e matando mais de 5 milhões.\n",
        "Fonte: [OMS](https://www.who.int/health-topics/coronavirus)"
      ],
      "metadata": {
        "id": "p_dn_J4VDB6z"
      }
    },
    {
      "cell_type": "markdown",
      "source": [
        "### 1.2 Fonte dos dados\n",
        "\n",
        "**Vacinação da COVID-19** - Os dados são compilados pelo projeto Nosso Mundo em Dados (*Our World in Data* ou OWID) da universidade britânica de *Oxford* ([link](https://ourworldindata.org)). Os dados são atualizados diariamente deste janeiro de 2020 com uma granularidade temporal de dias e geográfica de países. O repositório do projeto pode ser acessado neste [link](https://github.com/owid/covid-19-data/tree/master/public/data) enquanto os dados, neste [link](https://covid.ourworldindata.org/data/owid-covid-data.csv)."
      ],
      "metadata": {
        "id": "q9Kj_d3c3Hmd"
      }
    },
    {
      "cell_type": "markdown",
      "source": [
        "### 1.3 Glossário\n",
        "\n",
        "> **PPC** - O Produto Interno Bruto com Paridade de Poder de Compra (PPC) é uma medida econômica que leva em conta a diferença no custo de vida e os preços entre os países. Ele ajusta o Produto Interno Bruto (PIB) de diferentes nações para uma base comum, permitindo uma comparação mais precisa do tamanho e da força econômica de cada país, sem ser distorcido pelas variações nos preços locais.\n",
        "https://www.who.int/data/nutrition/nlis/info/gross-domestic-product-(gdp)-per-capita-and-gdp-per-capita-annual-growth-rate​\n",
        "\n",
        "> **IDH** - O Índice de Desenvolvimento Humano (IDH) compara indicadores de países nos itens riqueza, alfabetização, educação, esperança de vida, natalidade e outros, com o intuito de avaliar o bem-estar de uma população, especialmente das crianças. Varia de zero a um e é divulgado pelo Programa das Nações Unidas para o Desenvolvimento (Pnud) em seu relatório anual. https://www.undp.org/pt/brazil/o-que-%C3%A9-o-idh\n"
      ],
      "metadata": {
        "id": "ySKr3f7LW7H6"
      }
    },
    {
      "cell_type": "markdown",
      "source": [
        "---\n",
        "<a id='data-analysis'></a>\n",
        "\n",
        "## 2. Análise Exploratória dos Dados"
      ],
      "metadata": {
        "id": "sf3QFrPluHh0"
      }
    },
    {
      "cell_type": "code",
      "source": [
        "# Pacotes\n",
        "\n",
        "import numpy as np\n",
        "import pandas as pd\n",
        "import seaborn as sb"
      ],
      "metadata": {
        "id": "YFLJ8RrQunxR"
      },
      "execution_count": 13,
      "outputs": []
    },
    {
      "cell_type": "code",
      "source": [
        "# Fonte dos dados\n",
        "URL = 'https://covid.ourworldindata.org/data/owid-covid-data.csv'"
      ],
      "metadata": {
        "id": "28t7Ubv4f8sY"
      },
      "execution_count": 14,
      "outputs": []
    },
    {
      "cell_type": "markdown",
      "source": [
        "### 2.1 Extração"
      ],
      "metadata": {
        "id": "ensCdQ-gz75j"
      }
    },
    {
      "cell_type": "code",
      "source": [
        "# Declaração da variável com os dados brutos\n",
        "data = pd.read_csv(URL, parse_dates=[3])"
      ],
      "metadata": {
        "id": "PSmw_xOzz7eQ"
      },
      "execution_count": 15,
      "outputs": []
    },
    {
      "cell_type": "code",
      "source": [
        "# Demonstração das colunas disponíveis no dataset\n",
        "data.columns.values"
      ],
      "metadata": {
        "colab": {
          "base_uri": "https://localhost:8080/"
        },
        "id": "5-_Ej0Kv0RiV",
        "outputId": "880fba15-2587-41a2-c2e9-874c93f82aae"
      },
      "execution_count": 16,
      "outputs": [
        {
          "output_type": "execute_result",
          "data": {
            "text/plain": [
              "array(['iso_code', 'continent', 'location', 'date', 'total_cases',\n",
              "       'new_cases', 'new_cases_smoothed', 'total_deaths', 'new_deaths',\n",
              "       'new_deaths_smoothed', 'total_cases_per_million',\n",
              "       'new_cases_per_million', 'new_cases_smoothed_per_million',\n",
              "       'total_deaths_per_million', 'new_deaths_per_million',\n",
              "       'new_deaths_smoothed_per_million', 'reproduction_rate',\n",
              "       'icu_patients', 'icu_patients_per_million', 'hosp_patients',\n",
              "       'hosp_patients_per_million', 'weekly_icu_admissions',\n",
              "       'weekly_icu_admissions_per_million', 'weekly_hosp_admissions',\n",
              "       'weekly_hosp_admissions_per_million', 'total_tests', 'new_tests',\n",
              "       'total_tests_per_thousand', 'new_tests_per_thousand',\n",
              "       'new_tests_smoothed', 'new_tests_smoothed_per_thousand',\n",
              "       'positive_rate', 'tests_per_case', 'tests_units',\n",
              "       'total_vaccinations', 'people_vaccinated',\n",
              "       'people_fully_vaccinated', 'total_boosters', 'new_vaccinations',\n",
              "       'new_vaccinations_smoothed', 'total_vaccinations_per_hundred',\n",
              "       'people_vaccinated_per_hundred',\n",
              "       'people_fully_vaccinated_per_hundred',\n",
              "       'total_boosters_per_hundred',\n",
              "       'new_vaccinations_smoothed_per_million',\n",
              "       'new_people_vaccinated_smoothed',\n",
              "       'new_people_vaccinated_smoothed_per_hundred', 'stringency_index',\n",
              "       'population_density', 'median_age', 'aged_65_older',\n",
              "       'aged_70_older', 'gdp_per_capita', 'extreme_poverty',\n",
              "       'cardiovasc_death_rate', 'diabetes_prevalence', 'female_smokers',\n",
              "       'male_smokers', 'handwashing_facilities',\n",
              "       'hospital_beds_per_thousand', 'life_expectancy',\n",
              "       'human_development_index', 'population',\n",
              "       'excess_mortality_cumulative_absolute',\n",
              "       'excess_mortality_cumulative', 'excess_mortality',\n",
              "       'excess_mortality_cumulative_per_million'], dtype=object)"
            ]
          },
          "metadata": {},
          "execution_count": 16
        }
      ]
    },
    {
      "cell_type": "markdown",
      "source": [
        "### 2.2 Wrangling"
      ],
      "metadata": {
        "id": "cZ3kiuOhmvEN"
      }
    },
    {
      "cell_type": "markdown",
      "source": [
        "* **Delimitação de interesse:** para a análise usaremos as seguintes colunas:\n",
        "  *   Data\n",
        "  *   País\n",
        "  *   PPC\n",
        "  *   IDH\n",
        "  *   Total casos\n",
        "  *   Total de mortes\n",
        "  *   Novas mortes\n",
        "  *   Novos casos por milhão\n",
        "  *   Novas mortes por milhão"
      ],
      "metadata": {
        "id": "aghdzoaKye6X"
      }
    },
    {
      "cell_type": "code",
      "source": [
        "# Escolhendo as colunas de interesse em um DataFrame chamado covid\n",
        "covid = data[['date', 'location', 'gdp_per_capita', 'human_development_index','total_cases', 'total_deaths', 'new_deaths', 'new_cases_per_million', 'new_deaths_per_million']]"
      ],
      "metadata": {
        "id": "jpSEdMhCzB3W"
      },
      "execution_count": 17,
      "outputs": []
    },
    {
      "cell_type": "markdown",
      "source": [
        "* **Delimitação temporal:** usaremos o período entre **Março de 2020** e **Março de 2022** para a análise."
      ],
      "metadata": {
        "id": "LVBfjgIfnMfV"
      }
    },
    {
      "cell_type": "code",
      "source": [
        "# Definindo o índice como temporal para manipulação por tempo\n",
        "covid = covid.set_index(keys=['date'])"
      ],
      "metadata": {
        "id": "O6_Eo2Q4mIrF"
      },
      "execution_count": 18,
      "outputs": []
    },
    {
      "cell_type": "code",
      "source": [
        "# Restringindo os dados dentro do período de Março de 2020 a Março de 2022\n",
        "covid = covid['2020-03-31': '2022-03-31']"
      ],
      "metadata": {
        "id": "BFHWy_76eyhI"
      },
      "execution_count": 19,
      "outputs": []
    },
    {
      "cell_type": "markdown",
      "source": [
        "* **Delimitação espacial:** usaremos dois países com alto IDH (acima de 0.9) e alto PPC (acima de 50000): **Noruega** e **Estados Unidos**. E usaremos dois países com IDH mediano (~ 0.7) e PPC baixo (abaixo de 15000): **Índia** e **Brasil**."
      ],
      "metadata": {
        "id": "fEemhVhknTuH"
      }
    },
    {
      "cell_type": "code",
      "source": [
        "# Delimitando aos 4 países escolhidos\n",
        "covid = covid.query('location in [\"Germany\", \"United States\", \"India\", \"Brazil\"]')"
      ],
      "metadata": {
        "id": "TP9S1uVXk5o6"
      },
      "execution_count": 20,
      "outputs": []
    },
    {
      "cell_type": "code",
      "source": [
        "# Vamos traduzir os nomes dos países para o Português\n",
        "paises_dic = {\n",
        "    \"Germany\": \"Alemanha\",\n",
        "    \"United States\": \"Estados Unidos\",\n",
        "    \"India\": \"Índia\",\n",
        "    \"Brazil\": \"Brasil\"\n",
        "}\n",
        "covid[\"location\"] = covid[\"location\"].map(paises_dic)"
      ],
      "metadata": {
        "colab": {
          "base_uri": "https://localhost:8080/"
        },
        "id": "Ia9lhMPxkEfk",
        "outputId": "9df1f4dd-c125-41dd-a973-8efed2036a03"
      },
      "execution_count": 21,
      "outputs": [
        {
          "output_type": "stream",
          "name": "stderr",
          "text": [
            "<ipython-input-21-5ec6380a2a9a>:8: SettingWithCopyWarning: \n",
            "A value is trying to be set on a copy of a slice from a DataFrame.\n",
            "Try using .loc[row_indexer,col_indexer] = value instead\n",
            "\n",
            "See the caveats in the documentation: https://pandas.pydata.org/pandas-docs/stable/user_guide/indexing.html#returning-a-view-versus-a-copy\n",
            "  covid[\"location\"] = covid[\"location\"].map(paises_dic)\n"
          ]
        }
      ]
    },
    {
      "cell_type": "markdown",
      "source": [
        "Tratando dados faltantes"
      ],
      "metadata": {
        "id": "zPA0xNiieMfd"
      }
    },
    {
      "cell_type": "code",
      "source": [
        "# Preenchendo valores nulos com o último valor válido\n",
        "covid = covid.fillna(method='ffill')"
      ],
      "metadata": {
        "id": "3zs4lPZFeQ4c"
      },
      "execution_count": 22,
      "outputs": []
    },
    {
      "cell_type": "code",
      "source": [
        "covid.info()"
      ],
      "metadata": {
        "colab": {
          "base_uri": "https://localhost:8080/"
        },
        "id": "uV3H_n8ReRrP",
        "outputId": "303cfc6a-dc31-4da9-a35d-a10a39f910ed"
      },
      "execution_count": 23,
      "outputs": [
        {
          "output_type": "stream",
          "name": "stdout",
          "text": [
            "<class 'pandas.core.frame.DataFrame'>\n",
            "DatetimeIndex: 2924 entries, 2020-03-31 to 2022-03-31\n",
            "Data columns (total 8 columns):\n",
            " #   Column                   Non-Null Count  Dtype  \n",
            "---  ------                   --------------  -----  \n",
            " 0   location                 2924 non-null   object \n",
            " 1   gdp_per_capita           2924 non-null   float64\n",
            " 2   human_development_index  2924 non-null   float64\n",
            " 3   total_cases              2924 non-null   float64\n",
            " 4   total_deaths             2924 non-null   float64\n",
            " 5   new_deaths               2924 non-null   float64\n",
            " 6   new_cases_per_million    2924 non-null   float64\n",
            " 7   new_deaths_per_million   2924 non-null   float64\n",
            "dtypes: float64(7), object(1)\n",
            "memory usage: 205.6+ KB\n"
          ]
        }
      ]
    },
    {
      "cell_type": "markdown",
      "source": [
        "Adicionando porcentagem de mortes por infecções"
      ],
      "metadata": {
        "id": "5ZaqPBnZ3GMn"
      }
    },
    {
      "cell_type": "code",
      "source": [
        "covid[\"deaths_percent\"] = (covid[\"total_deaths\"]/covid[\"total_cases\"]).round(4)"
      ],
      "metadata": {
        "id": "VNzgOcn53QHl"
      },
      "execution_count": 24,
      "outputs": []
    },
    {
      "cell_type": "markdown",
      "source": [
        "Visualizando"
      ],
      "metadata": {
        "id": "mBB9ehJ6ls2P"
      }
    },
    {
      "cell_type": "code",
      "source": [
        "covid.loc['2021'].drop_duplicates('location')"
      ],
      "metadata": {
        "colab": {
          "base_uri": "https://localhost:8080/",
          "height": 206
        },
        "id": "rJkD1-9blvsk",
        "outputId": "5090aabc-a933-4d38-8911-0dea8570719f"
      },
      "execution_count": 25,
      "outputs": [
        {
          "output_type": "execute_result",
          "data": {
            "text/plain": [
              "                  location  gdp_per_capita  human_development_index  \\\n",
              "date                                                                  \n",
              "2021-01-01          Brasil       14103.452                    0.765   \n",
              "2021-01-01        Alemanha       45229.245                    0.947   \n",
              "2021-01-01           Índia        6426.674                    0.645   \n",
              "2021-01-01  Estados Unidos       54225.446                    0.926   \n",
              "\n",
              "            total_cases  total_deaths  new_deaths  new_cases_per_million  \\\n",
              "date                                                                       \n",
              "2021-01-01    7619200.0      193875.0      1194.0                258.456   \n",
              "2021-01-01    1660178.0       47009.0         0.0                  0.000   \n",
              "2021-01-01   10286709.0      148994.0       256.0                 14.137   \n",
              "2021-01-01   19813403.0      355767.0      3763.0                697.089   \n",
              "\n",
              "            new_deaths_per_million  deaths_percent  \n",
              "date                                                \n",
              "2021-01-01                   5.545          0.0254  \n",
              "2021-01-01                   0.000          0.0283  \n",
              "2021-01-01                   0.181          0.0145  \n",
              "2021-01-01                  11.124          0.0180  "
            ],
            "text/html": [
              "\n",
              "\n",
              "  <div id=\"df-bda3daf1-a609-4ae0-a439-7d2214e56b11\">\n",
              "    <div class=\"colab-df-container\">\n",
              "      <div>\n",
              "<style scoped>\n",
              "    .dataframe tbody tr th:only-of-type {\n",
              "        vertical-align: middle;\n",
              "    }\n",
              "\n",
              "    .dataframe tbody tr th {\n",
              "        vertical-align: top;\n",
              "    }\n",
              "\n",
              "    .dataframe thead th {\n",
              "        text-align: right;\n",
              "    }\n",
              "</style>\n",
              "<table border=\"1\" class=\"dataframe\">\n",
              "  <thead>\n",
              "    <tr style=\"text-align: right;\">\n",
              "      <th></th>\n",
              "      <th>location</th>\n",
              "      <th>gdp_per_capita</th>\n",
              "      <th>human_development_index</th>\n",
              "      <th>total_cases</th>\n",
              "      <th>total_deaths</th>\n",
              "      <th>new_deaths</th>\n",
              "      <th>new_cases_per_million</th>\n",
              "      <th>new_deaths_per_million</th>\n",
              "      <th>deaths_percent</th>\n",
              "    </tr>\n",
              "    <tr>\n",
              "      <th>date</th>\n",
              "      <th></th>\n",
              "      <th></th>\n",
              "      <th></th>\n",
              "      <th></th>\n",
              "      <th></th>\n",
              "      <th></th>\n",
              "      <th></th>\n",
              "      <th></th>\n",
              "      <th></th>\n",
              "    </tr>\n",
              "  </thead>\n",
              "  <tbody>\n",
              "    <tr>\n",
              "      <th>2021-01-01</th>\n",
              "      <td>Brasil</td>\n",
              "      <td>14103.452</td>\n",
              "      <td>0.765</td>\n",
              "      <td>7619200.0</td>\n",
              "      <td>193875.0</td>\n",
              "      <td>1194.0</td>\n",
              "      <td>258.456</td>\n",
              "      <td>5.545</td>\n",
              "      <td>0.0254</td>\n",
              "    </tr>\n",
              "    <tr>\n",
              "      <th>2021-01-01</th>\n",
              "      <td>Alemanha</td>\n",
              "      <td>45229.245</td>\n",
              "      <td>0.947</td>\n",
              "      <td>1660178.0</td>\n",
              "      <td>47009.0</td>\n",
              "      <td>0.0</td>\n",
              "      <td>0.000</td>\n",
              "      <td>0.000</td>\n",
              "      <td>0.0283</td>\n",
              "    </tr>\n",
              "    <tr>\n",
              "      <th>2021-01-01</th>\n",
              "      <td>Índia</td>\n",
              "      <td>6426.674</td>\n",
              "      <td>0.645</td>\n",
              "      <td>10286709.0</td>\n",
              "      <td>148994.0</td>\n",
              "      <td>256.0</td>\n",
              "      <td>14.137</td>\n",
              "      <td>0.181</td>\n",
              "      <td>0.0145</td>\n",
              "    </tr>\n",
              "    <tr>\n",
              "      <th>2021-01-01</th>\n",
              "      <td>Estados Unidos</td>\n",
              "      <td>54225.446</td>\n",
              "      <td>0.926</td>\n",
              "      <td>19813403.0</td>\n",
              "      <td>355767.0</td>\n",
              "      <td>3763.0</td>\n",
              "      <td>697.089</td>\n",
              "      <td>11.124</td>\n",
              "      <td>0.0180</td>\n",
              "    </tr>\n",
              "  </tbody>\n",
              "</table>\n",
              "</div>\n",
              "      <button class=\"colab-df-convert\" onclick=\"convertToInteractive('df-bda3daf1-a609-4ae0-a439-7d2214e56b11')\"\n",
              "              title=\"Convert this dataframe to an interactive table.\"\n",
              "              style=\"display:none;\">\n",
              "\n",
              "  <svg xmlns=\"http://www.w3.org/2000/svg\" height=\"24px\"viewBox=\"0 0 24 24\"\n",
              "       width=\"24px\">\n",
              "    <path d=\"M0 0h24v24H0V0z\" fill=\"none\"/>\n",
              "    <path d=\"M18.56 5.44l.94 2.06.94-2.06 2.06-.94-2.06-.94-.94-2.06-.94 2.06-2.06.94zm-11 1L8.5 8.5l.94-2.06 2.06-.94-2.06-.94L8.5 2.5l-.94 2.06-2.06.94zm10 10l.94 2.06.94-2.06 2.06-.94-2.06-.94-.94-2.06-.94 2.06-2.06.94z\"/><path d=\"M17.41 7.96l-1.37-1.37c-.4-.4-.92-.59-1.43-.59-.52 0-1.04.2-1.43.59L10.3 9.45l-7.72 7.72c-.78.78-.78 2.05 0 2.83L4 21.41c.39.39.9.59 1.41.59.51 0 1.02-.2 1.41-.59l7.78-7.78 2.81-2.81c.8-.78.8-2.07 0-2.86zM5.41 20L4 18.59l7.72-7.72 1.47 1.35L5.41 20z\"/>\n",
              "  </svg>\n",
              "      </button>\n",
              "\n",
              "\n",
              "\n",
              "    <div id=\"df-5c6f50e6-89cb-41c8-bb3f-0b297bef8045\">\n",
              "      <button class=\"colab-df-quickchart\" onclick=\"quickchart('df-5c6f50e6-89cb-41c8-bb3f-0b297bef8045')\"\n",
              "              title=\"Suggest charts.\"\n",
              "              style=\"display:none;\">\n",
              "\n",
              "<svg xmlns=\"http://www.w3.org/2000/svg\" height=\"24px\"viewBox=\"0 0 24 24\"\n",
              "     width=\"24px\">\n",
              "    <g>\n",
              "        <path d=\"M19 3H5c-1.1 0-2 .9-2 2v14c0 1.1.9 2 2 2h14c1.1 0 2-.9 2-2V5c0-1.1-.9-2-2-2zM9 17H7v-7h2v7zm4 0h-2V7h2v10zm4 0h-2v-4h2v4z\"/>\n",
              "    </g>\n",
              "</svg>\n",
              "      </button>\n",
              "    </div>\n",
              "\n",
              "<style>\n",
              "  .colab-df-quickchart {\n",
              "    background-color: #E8F0FE;\n",
              "    border: none;\n",
              "    border-radius: 50%;\n",
              "    cursor: pointer;\n",
              "    display: none;\n",
              "    fill: #1967D2;\n",
              "    height: 32px;\n",
              "    padding: 0 0 0 0;\n",
              "    width: 32px;\n",
              "  }\n",
              "\n",
              "  .colab-df-quickchart:hover {\n",
              "    background-color: #E2EBFA;\n",
              "    box-shadow: 0px 1px 2px rgba(60, 64, 67, 0.3), 0px 1px 3px 1px rgba(60, 64, 67, 0.15);\n",
              "    fill: #174EA6;\n",
              "  }\n",
              "\n",
              "  [theme=dark] .colab-df-quickchart {\n",
              "    background-color: #3B4455;\n",
              "    fill: #D2E3FC;\n",
              "  }\n",
              "\n",
              "  [theme=dark] .colab-df-quickchart:hover {\n",
              "    background-color: #434B5C;\n",
              "    box-shadow: 0px 1px 3px 1px rgba(0, 0, 0, 0.15);\n",
              "    filter: drop-shadow(0px 1px 2px rgba(0, 0, 0, 0.3));\n",
              "    fill: #FFFFFF;\n",
              "  }\n",
              "</style>\n",
              "\n",
              "    <script>\n",
              "      async function quickchart(key) {\n",
              "        const containerElement = document.querySelector('#' + key);\n",
              "        const charts = await google.colab.kernel.invokeFunction(\n",
              "            'suggestCharts', [key], {});\n",
              "      }\n",
              "    </script>\n",
              "\n",
              "      <script>\n",
              "\n",
              "function displayQuickchartButton(domScope) {\n",
              "  let quickchartButtonEl =\n",
              "    domScope.querySelector('#df-5c6f50e6-89cb-41c8-bb3f-0b297bef8045 button.colab-df-quickchart');\n",
              "  quickchartButtonEl.style.display =\n",
              "    google.colab.kernel.accessAllowed ? 'block' : 'none';\n",
              "}\n",
              "\n",
              "        displayQuickchartButton(document);\n",
              "      </script>\n",
              "      <style>\n",
              "    .colab-df-container {\n",
              "      display:flex;\n",
              "      flex-wrap:wrap;\n",
              "      gap: 12px;\n",
              "    }\n",
              "\n",
              "    .colab-df-convert {\n",
              "      background-color: #E8F0FE;\n",
              "      border: none;\n",
              "      border-radius: 50%;\n",
              "      cursor: pointer;\n",
              "      display: none;\n",
              "      fill: #1967D2;\n",
              "      height: 32px;\n",
              "      padding: 0 0 0 0;\n",
              "      width: 32px;\n",
              "    }\n",
              "\n",
              "    .colab-df-convert:hover {\n",
              "      background-color: #E2EBFA;\n",
              "      box-shadow: 0px 1px 2px rgba(60, 64, 67, 0.3), 0px 1px 3px 1px rgba(60, 64, 67, 0.15);\n",
              "      fill: #174EA6;\n",
              "    }\n",
              "\n",
              "    [theme=dark] .colab-df-convert {\n",
              "      background-color: #3B4455;\n",
              "      fill: #D2E3FC;\n",
              "    }\n",
              "\n",
              "    [theme=dark] .colab-df-convert:hover {\n",
              "      background-color: #434B5C;\n",
              "      box-shadow: 0px 1px 3px 1px rgba(0, 0, 0, 0.15);\n",
              "      filter: drop-shadow(0px 1px 2px rgba(0, 0, 0, 0.3));\n",
              "      fill: #FFFFFF;\n",
              "    }\n",
              "  </style>\n",
              "\n",
              "      <script>\n",
              "        const buttonEl =\n",
              "          document.querySelector('#df-bda3daf1-a609-4ae0-a439-7d2214e56b11 button.colab-df-convert');\n",
              "        buttonEl.style.display =\n",
              "          google.colab.kernel.accessAllowed ? 'block' : 'none';\n",
              "\n",
              "        async function convertToInteractive(key) {\n",
              "          const element = document.querySelector('#df-bda3daf1-a609-4ae0-a439-7d2214e56b11');\n",
              "          const dataTable =\n",
              "            await google.colab.kernel.invokeFunction('convertToInteractive',\n",
              "                                                     [key], {});\n",
              "          if (!dataTable) return;\n",
              "\n",
              "          const docLinkHtml = 'Like what you see? Visit the ' +\n",
              "            '<a target=\"_blank\" href=https://colab.research.google.com/notebooks/data_table.ipynb>data table notebook</a>'\n",
              "            + ' to learn more about interactive tables.';\n",
              "          element.innerHTML = '';\n",
              "          dataTable['output_type'] = 'display_data';\n",
              "          await google.colab.output.renderOutput(dataTable, element);\n",
              "          const docLink = document.createElement('div');\n",
              "          docLink.innerHTML = docLinkHtml;\n",
              "          element.appendChild(docLink);\n",
              "        }\n",
              "      </script>\n",
              "    </div>\n",
              "  </div>\n"
            ]
          },
          "metadata": {},
          "execution_count": 25
        }
      ]
    },
    {
      "cell_type": "markdown",
      "source": [
        "### 2.3 Carregamento"
      ],
      "metadata": {
        "id": "GmNq1kOYsIHM"
      }
    },
    {
      "cell_type": "code",
      "source": [
        "covid.to_csv('./covid.csv', sep=',', index=True)"
      ],
      "metadata": {
        "id": "ur-OHsXIWN_-"
      },
      "execution_count": 26,
      "outputs": []
    },
    {
      "cell_type": "markdown",
      "metadata": {
        "id": "PD0FiM7UJOGT"
      },
      "source": [
        "---\n",
        "<a id='visualization'></a>\n",
        "\n",
        "## 3\\. Exploração Interativa de Dados"
      ]
    },
    {
      "cell_type": "markdown",
      "metadata": {
        "id": "AAwJC4RyS0xa"
      },
      "source": [
        "### 3.1. KPIs"
      ]
    },
    {
      "cell_type": "markdown",
      "metadata": {
        "id": "9LIHnwDuiN47"
      },
      "source": [
        "O dashboard de dados contem os seguintes indicadores chaves de desempenho (*key performance indicator* ou KPI) consolidados:"
      ]
    },
    {
      "cell_type": "markdown",
      "source": [
        " * Total casos\n",
        " * Total de mortes\n",
        " * Média de casos por milhão\n",
        " * Média de mortes por milhão\n",
        " * Porcentagem de mortes em relação aos contaminados\n",
        " * Soma de casos no período selecionado"
      ],
      "metadata": {
        "id": "rllIx255dOOu"
      }
    },
    {
      "cell_type": "markdown",
      "source": [
        "### **3.2. EDA**"
      ],
      "metadata": {
        "id": "QGWv8lw5YdUC"
      }
    },
    {
      "cell_type": "markdown",
      "source": [
        "O dashboard de dados contem os seguintes gráficos para a análise exploratória de dados (*exploratory data analysis*\n",
        "ou EDA) interativa:"
      ],
      "metadata": {
        "id": "AZPbGM3cdOyi"
      }
    },
    {
      "cell_type": "markdown",
      "source": [
        "* Número de mortes por milhão de pessoas\n",
        "* Porcentagem de mortes por infecções"
      ],
      "metadata": {
        "id": "QuzfB5PmYjS9"
      }
    },
    {
      "cell_type": "markdown",
      "source": [
        "---\n",
        "<a id='storytelling'></a>\n",
        "\n",
        "## 4\\. Storytelling\n",
        "\n",
        "O relatório analisou o impacto da pandemia de COVID-19 durante o período de 2020 a 2022 em quatro países - Brasil, Alemanha, Índia e Estados Unidos - em relação ao Índice de Desenvolvimento Humano (IDH) e o Produto Interno Bruto com paridade de Poder de Compra (PPC). Conclui-se que o IDH e o PPC não têm uma relação direta com o número de mortes por milhão de habitantes causadas pelo vírus. A resposta à pandemia varia de acordo com fatores específicos de cada país, como ações governamentais, medidas de contenção e inúmeros outros fatores. Uma abordagem diferente talvez seja mais eficaz em auxiliar no preparo estratégico para futuras crises de saúde."
      ],
      "metadata": {
        "id": "fGmO0I_ae62k"
      }
    }
  ]
}