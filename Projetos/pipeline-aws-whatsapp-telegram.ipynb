{
 "cells": [
  {
   "cell_type": "markdown",
   "id": "8f582370",
   "metadata": {
    "papermill": {
     "duration": 0.001427,
     "end_time": "2023-11-30T19:55:30.272780",
     "exception": false,
     "start_time": "2023-11-30T19:55:30.271353",
     "status": "completed"
    },
    "tags": []
   },
   "source": [
    "<div style=\"align-items: center; justify-content: space-between;\">\n",
    "   <img src=\"\"  align=\"right\" alt=\"Semantix-logo\" width=\"15%\">\n",
    "\n",
    "   <h1>Data Pipeline | AWS - Whatsapp - Telegram</h1>\n",
    "   <b> por <a href=\"https://www.linkedin.com/in/fernandohcarneiro/\">Fernando Carneiro</a> </b>\n",
    "</div>\n",
    "\n",
    "---\n",
    "\n",
    "## Sumário\n",
    "1. [**Introdução**](#intro)\n"
   ]
  },
  {
   "cell_type": "markdown",
   "metadata": {},
   "source": [
    "<a id='intro'></a>\n",
    "## 1. Introdução"
   ]
  },
  {
   "cell_type": "markdown",
   "metadata": {},
   "source": [
    "### 1.1 Objetivo\n",
    "O objetivo deste projeto é demonstrar como é feita a extração de dados provenientes do Telegram e do WhatsApp, transferir esses dados para um ***Datalake***, realizar o processamento dos dados em lote na nuvem e então fazer a análise dos dados tratados. Esses dados fornecem a base para extrair informações valiosas, abrindo possibilidades para aprimorar serviços e explorar oportunidades de monetização.\n",
    "\n",
    "### 1.2 O que é Pipeline?\n",
    "No contexto de ciência de dados, um ***pipeline*** refere-se a uma **sequência de processos automatizados** que são encadeados para realizar tarefas específicas, desde a coleta de dados até a entrega de resultados. Esse conceito é inspirado no campo da engenharia de software, onde um pipeline representa um fluxo contínuo de desenvolvimento e entrega de software.\n",
    "\n",
    "    <Imagem aqui>\n",
    "\n",
    "*fonte: https://www.stitchdata.com/resources/what-is-data-pipeline/*\n",
    "\n",
    "### 1.3 Pipeline do projeto\n",
    "O pipeline de dados deste projeto se inicia pela ingestão dos dados dos usuários por meio de API que conectam as fontes com a nuvem da Amazon Web Services(AWS). Na plataforma da AWS os dados são recebidos por uma função Lambda (inserir link) que armazena esses dados de forma organizada por dias no AWS S3. Diariamente um AWS Event Bridge chama um processo em lote no Lambda que transforma os dados brutos extraindo somente o que estamos interessados (data da mensagem, nome e número do contato e a mensagem) e salva de forma organizada no AWS S3. No processo de visualização, tabelas criadas a partir dos arquivos parquet criados no processo anterior, permitem que façamos análises de todo tipo utilizando a linguagem SQL, sendo possível extrair esses dados para um dashboard posteriormente.\n",
    "\n",
    "<Animação com o Pipeline do projeto>\n"
   ]
  },
  {
   "cell_type": "markdown",
   "metadata": {},
   "source": [
    "## 2. Sistema transacional"
   ]
  },
  {
   "cell_type": "markdown",
   "metadata": {},
   "source": [
    "Um sistema transacional é uma estrutura tecnológica e de dados que suporta as transações diárias de uma fonte de dados. Ele é responsável por coletar, registrar e transmitir dados para uma cadeia de processos que tratarão os dados para posterior análise. Em resumo, os sistemas transacionais são projetados para ingerir dados criados diariamente e salvá-los em um banco de dados ou *DataLake*.\n",
    "\n",
    "*fonte: https://insightsoftware.com/encyclopedia/transactional-systems/ *"
   ]
  },
  {
   "cell_type": "markdown",
   "metadata": {},
   "source": [
    "### 2.1 Ingestão de dados\n",
    "Neste projeto a ingestão dos dados consiste na captura de mensagens de texto enviadas pelas plataformas Whatsapp e Telegram em tempo real, fornecidas por meio de uma API.\n",
    "\n",
    "#### 2.2 O que é uma API?\n",
    "Uma API, ou Interface de Programação de Aplicações, é um componente de software dentro de um sistema que fornece um mecanismo para invocar uma tarefa em outro sistema. Ela serve como uma ponte que facilita a comunicação e integração entre sistemas ou componentes de software diversos, até de tipos diferentes.\n",
    "\n",
    "* fonte: https://www.3pillarglobal.com/insights/a-simple-api-definition-and-how-apis-work/ *\n",
    "\n",
    "#### 2.3 Whatsapp Business API\n",
    "É a API da empresa que permite a conexão em escala entre diversos tipos de sistemas e os usuários da plataforma. Neste projeto iremos usá-la para receber as mensagens enviadas para um número de telefone específico configurado. Embora seja possível extrair uma variedade de informações, me concentrei em capturar dados essenciais, como as informações de contato e a mensagem enviada pelo usuário.\n",
    "\n",
    "* fonte: https://developers.facebook.com/docs/whatsapp/cloud-api/overview *\n",
    "\n",
    "#### 2.4 Telegram Botfather\n",
    "Um chatbot é um programa de computador projetado para simular a interação humana em conversas. Neste projeto iremos usar um chatbot para capturar as mensagens enviadas dentro de um grupo. O BotFather é um bot especial no Telegram que faz a criação e gerenciamento de bots na plataforma. Ele nos permitirá desenvolver e configurar o bot de maneira eficiente e interativa.\n",
    "\n",
    "* fonte: https://core.telegram.org/bots/features#botfather *\n",
    "\n",
    "#### 2.5 Webhook\n",
    "Um webhook é uma ferramenta de comunicação automatizada que permite que sistemas online, geralmente APIs, enviem informações em tempo real assim que eventos específicos ocorrem. Com uma abordagem assíncrona baseada em eventos, opera por meio de protocolos HTTP ou HTTPS, fornecendo uma maneira ágil e eficiente de integrar plataformas e serviços online. No escopo deste projeto, o webhook será acionado pelo recebimento de uma nova mensagem, sendo responsável por encaminhar os dados úteis, também chamado de *payload*,  de forma instantânea aos serviços em nuvem.\n",
    "\n",
    "* fonte: https://www.redhat.com/en/topics/automation/what-is-a-webhook *\n",
    "\n",
    "#### 2.6 AWS API Gateway\n",
    "O primeiro serviço em nuvem na sequência do pipeline, faz parte dos serviços em nuvem da Amazon Web Services (AWS). Este serviço centraliza o gerenciamento das APIs inclusive o recebimento, como no caso deste projeto, em que servirá como porta de entrada para o recebimento do *payload* advindo das plataformas de mensagens. Ele oferece recursos como autenticação, autorização, monitoramento e escalabilidade, simplificando o processo de construção e administração de APIs de forma eficiente na infraestrutura da AWS.\n",
    "\n",
    "* fonte: https://aws.amazon.com/pt/api-gateway/ *"
   ]
  },
  {
   "cell_type": "markdown",
   "metadata": {},
   "source": [
    "## 3. Sistema analítico"
   ]
  },
  {
   "cell_type": "markdown",
   "metadata": {},
   "source": [
    "### 3.1 O que é ETL (Extract, Transform, Load)?\n",
    "\n",
    "### 3.2 Extração (Extract)\n",
    "\n",
    "#### 3.2.1 AWS Lambda\n",
    "\n",
    "#### 3.2.2 AWS S3\n",
    "\n",
    "### 3.3 Transformação (Transform)\n",
    "\n",
    "#### 3.3.1 AWS Lambda\n",
    "\n",
    "### 3.4 Carregamento (Load)\n",
    "\n",
    "#### 3.4 AWS Event Bridge"
   ]
  },
  {
   "cell_type": "markdown",
   "metadata": {},
   "source": [
    "## 4. Apresentação"
   ]
  },
  {
   "cell_type": "markdown",
   "metadata": {},
   "source": [
    "### 4.1 AWS Athena\n"
   ]
  }
 ],
 "metadata": {
  "kaggle": {
   "accelerator": "none",
   "dataSources": [],
   "dockerImageVersionId": 30587,
   "isGpuEnabled": false,
   "isInternetEnabled": true,
   "language": "python",
   "sourceType": "notebook"
  },
  "kernelspec": {
   "display_name": "Python 3",
   "language": "python",
   "name": "python3"
  },
  "language_info": {
   "codemirror_mode": {
    "name": "ipython",
    "version": 3
   },
   "file_extension": ".py",
   "mimetype": "text/x-python",
   "name": "python",
   "nbconvert_exporter": "python",
   "pygments_lexer": "ipython3",
   "version": "3.10.13"
  },
  "papermill": {
   "default_parameters": {},
   "duration": 2.632042,
   "end_time": "2023-11-30T19:55:30.590898",
   "environment_variables": {},
   "exception": null,
   "input_path": "__notebook__.ipynb",
   "output_path": "__notebook__.ipynb",
   "parameters": {},
   "start_time": "2023-11-30T19:55:27.958856",
   "version": "2.4.0"
  }
 },
 "nbformat": 4,
 "nbformat_minor": 5
}
