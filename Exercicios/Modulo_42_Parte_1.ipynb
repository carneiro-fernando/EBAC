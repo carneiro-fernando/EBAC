{
  "nbformat": 4,
  "nbformat_minor": 0,
  "metadata": {
    "colab": {
      "provenance": [],
      "collapsed_sections": [
        "JG1HL69-j0lH",
        "s_Dj-BgThLg5",
        "jeEzLmuRhDQy",
        "PoTeRwlihDQ0",
        "QpMlxqRyhDQ1",
        "ov7Fg-mWhDQ1",
        "DvHPNAoPgdiG",
        "3SMp5GwjglJm",
        "e3ieQfXTgqd3",
        "L0pKWNr5fm9z",
        "DMhCpOU_gupo",
        "l3h0WP2Eg2ht",
        "rWG4Vk6XaWtf",
        "wkibgd8rB8y3",
        "IjPaJtnYE0MI",
        "2lpj1rszc--m",
        "HnWg_mhLd5gC",
        "RhqmXiHQo-is",
        "SvT9xrajLL7J",
        "91eSyA2cLLqv"
      ],
      "include_colab_link": true
    },
    "kernelspec": {
      "name": "python3",
      "display_name": "Python 3"
    }
  },
  "cells": [
    {
      "cell_type": "markdown",
      "metadata": {
        "id": "view-in-github",
        "colab_type": "text"
      },
      "source": [
        "<a href=\"https://colab.research.google.com/github/carneiro-fernando/EBAC/blob/main/Exercicios/Modulo_42_Parte_1.ipynb\" target=\"_parent\"><img src=\"https://colab.research.google.com/assets/colab-badge.svg\" alt=\"Open In Colab\"/></a>"
      ]
    },
    {
      "cell_type": "markdown",
      "metadata": {
        "id": "KJqp9AANOCtf"
      },
      "source": [
        "<img src=\"https://raw.githubusercontent.com/andre-marcos-perez/ebac-course-utils/main/media/logo/newebac_logo_black_half.png\" alt=\"ebac-logo\">\n",
        "\n",
        "---\n",
        "\n",
        "# **Módulo** | Pipeline de Dados do Telegram I\n",
        "Caderno de **Exercícios**<br>\n",
        "Professor [André Perez](https://www.linkedin.com/in/andremarcosperez/)\n",
        "\n",
        "---"
      ]
    },
    {
      "cell_type": "markdown",
      "metadata": {
        "id": "d9jDtUbDOE1-"
      },
      "source": [
        "# **Tópicos**\n",
        "\n",
        "<ol type=\"1\">\n",
        "  <li>Contexto;</li>\n",
        "  <li>Telegram;</li>\n",
        "  <li>Dados.</li>\n",
        "</ol>"
      ]
    },
    {
      "cell_type": "markdown",
      "metadata": {
        "id": "SmoHgt-lwkpD"
      },
      "source": [
        "---"
      ]
    },
    {
      "cell_type": "markdown",
      "metadata": {
        "id": "GABI6OW8OfQ2"
      },
      "source": [
        "# **Exercícios**"
      ]
    },
    {
      "cell_type": "code",
      "source": [
        "from IPython.display import Image"
      ],
      "metadata": {
        "id": "RaXlGauwmwzf"
      },
      "execution_count": null,
      "outputs": []
    },
    {
      "cell_type": "markdown",
      "metadata": {
        "id": "ne7Ay0HKaGSv"
      },
      "source": [
        "## 1\\. Telegram."
      ]
    },
    {
      "cell_type": "markdown",
      "metadata": {
        "id": "OQxOVktrzG9I"
      },
      "source": [
        "Replique as atividades da aula 2."
      ]
    },
    {
      "cell_type": "markdown",
      "source": [
        "1.1. Crie uma conta no **Telegram** caso não possua uma e faça o login na versão web da ferramenta através desse [link](https://web.telegram.org)."
      ],
      "metadata": {
        "id": "E69nBHvAa_O5"
      }
    },
    {
      "cell_type": "markdown",
      "source": [
        "1.2. Crie um *bot*.\n",
        "\n",
        "> <img src=\"https://github.com/carneiro-fernando/EBAC/blob/main/assets/Images/Projeto_Telegram_pipeline/bot_creation.png.png?raw=true\" alt=\"Bot Creation Image\">\n"
      ],
      "metadata": {
        "id": "R9Ils6eccOLS"
      }
    },
    {
      "cell_type": "markdown",
      "source": [
        "1.3. Crie um grupo e adicione o *bot*.\n",
        "\n",
        "\n",
        "> Grupo: https://t.me/+SCoZVlp2xZY1Njdh\n",
        "\n",
        "> <img src='https://github.com/carneiro-fernando/EBAC/blob/main/assets/Images/Projeto_Telegram_pipeline/group_creation.png?raw=true'>\n",
        "\n"
      ],
      "metadata": {
        "id": "8oTn1Z1Md2GQ"
      }
    },
    {
      "cell_type": "markdown",
      "source": [
        "1.4. Torne o *bot* administrador do grupo.\n",
        "\n",
        "> <img src='https://github.com/carneiro-fernando/EBAC/blob/main/assets/Images/Projeto_Telegram_pipeline/bot_admin.png?raw=true'>"
      ],
      "metadata": {
        "id": "LzXWWUWzeNxt"
      }
    },
    {
      "cell_type": "markdown",
      "source": [
        "1.5. Desabilite a opção de adicionar o *bot* a novos grupos.\n",
        "\n",
        "> <img src='https://github.com/carneiro-fernando/EBAC/blob/main/assets/Images/Projeto_Telegram_pipeline/bot_config.png?raw=true'>"
      ],
      "metadata": {
        "id": "_D2WT_iueaRr"
      }
    },
    {
      "cell_type": "markdown",
      "source": [
        "1.6. Envie diversos tipos de mensagens no grupo (text, imagem, arquivos, video, áudio, etc.) e as consuma utilizand a API de *bots* do **Telegram**.\n",
        "\n",
        "> <img src='https://github.com/carneiro-fernando/EBAC/blob/main/assets/Images/Projeto_Telegram_pipeline/group_messages.png?raw=true'>"
      ],
      "metadata": {
        "id": "t4PyML7VUPBd"
      }
    },
    {
      "cell_type": "markdown",
      "source": [
        "> **Nota:** A documentação completa da API pode ser encontrada neste [link](https://core.telegram.org/bots/api)"
      ],
      "metadata": {
        "id": "c4MXmvWMUetr"
      }
    },
    {
      "cell_type": "code",
      "source": [
        "from getpass import getpass\n",
        "\n",
        "print('Insira o token:')\n",
        "token = getpass()"
      ],
      "metadata": {
        "id": "y3idc49neaRt",
        "colab": {
          "base_uri": "https://localhost:8080/"
        },
        "outputId": "eb8a80a2-072c-4668-c8d5-5351f7933f2e"
      },
      "execution_count": null,
      "outputs": [
        {
          "name": "stdout",
          "output_type": "stream",
          "text": [
            "Insira o token:\n",
            "··········\n"
          ]
        }
      ]
    },
    {
      "cell_type": "code",
      "source": [
        "import requests\n",
        "import json\n",
        "from requests.exceptions import HTTPError\n",
        "\n",
        "URL = f'https://api.telegram.org/bot{token}'\n",
        "\n",
        "def getMe(url: str) -> str:\n",
        "    try:\n",
        "        response = requests.get(url=f'{url}/getMe')\n",
        "        response.raise_for_status()\n",
        "    except HTTPError as exc:\n",
        "        print(exc)\n",
        "    else:\n",
        "        return json.dumps(json.loads(response.text), indent=2)\n",
        "\n",
        "def getUpdates(url: str) -> str:\n",
        "    try:\n",
        "        response = requests.get(url=f'{url}/getUpdates')\n",
        "        response.raise_for_status()\n",
        "    except HTTPError as exc:\n",
        "        print(exc)\n",
        "    else:\n",
        "        return json.dumps(json.loads(response.text), indent=2)"
      ],
      "metadata": {
        "id": "ESrTnC_HfI9G"
      },
      "execution_count": null,
      "outputs": []
    },
    {
      "cell_type": "code",
      "source": [
        "me_info = getMe(URL)\n",
        "print(\"\\nBot Information:\")\n",
        "print(me_info)\n",
        "\n",
        "updates_info = getUpdates(URL)\n",
        "print(\"\\nBot Updates:\")\n",
        "print(updates_info)"
      ],
      "metadata": {
        "colab": {
          "base_uri": "https://localhost:8080/"
        },
        "id": "9s85-jEzoH0F",
        "outputId": "95fbb7a6-625f-4144-851f-76e2e24c2d0f"
      },
      "execution_count": null,
      "outputs": [
        {
          "output_type": "stream",
          "name": "stdout",
          "text": [
            "\n",
            "Bot Information:\n",
            "{\n",
            "  \"ok\": true,\n",
            "  \"result\": {\n",
            "    \"id\": 6813671767,\n",
            "    \"is_bot\": true,\n",
            "    \"first_name\": \"chat_monitor\",\n",
            "    \"username\": \"chat_monitor_ro_bot\",\n",
            "    \"can_join_groups\": false,\n",
            "    \"can_read_all_group_messages\": false,\n",
            "    \"supports_inline_queries\": false\n",
            "  }\n",
            "}\n",
            "\n",
            "Bot Updates:\n",
            "{\n",
            "  \"ok\": true,\n",
            "  \"result\": [\n",
            "    {\n",
            "      \"update_id\": 187616239,\n",
            "      \"message\": {\n",
            "        \"message_id\": 5,\n",
            "        \"from\": {\n",
            "          \"id\": 6836214474,\n",
            "          \"is_bot\": false,\n",
            "          \"first_name\": \"Fernando Henrique\",\n",
            "          \"last_name\": \"Carneiro\",\n",
            "          \"username\": \"carneiro_fernando\",\n",
            "          \"language_code\": \"pt-br\"\n",
            "        },\n",
            "        \"chat\": {\n",
            "          \"id\": -1001982755738,\n",
            "          \"title\": \"Projeto - Data pipeline (EBAC)\",\n",
            "          \"type\": \"supergroup\"\n",
            "        },\n",
            "        \"date\": 1701118019,\n",
            "        \"text\": \"Ol\\u00e1 mundo!\",\n",
            "        \"has_protected_content\": true\n",
            "      }\n",
            "    },\n",
            "    {\n",
            "      \"update_id\": 187616240,\n",
            "      \"message\": {\n",
            "        \"message_id\": 6,\n",
            "        \"from\": {\n",
            "          \"id\": 6836214474,\n",
            "          \"is_bot\": false,\n",
            "          \"first_name\": \"Fernando Henrique\",\n",
            "          \"last_name\": \"Carneiro\",\n",
            "          \"username\": \"carneiro_fernando\",\n",
            "          \"language_code\": \"pt-br\"\n",
            "        },\n",
            "        \"chat\": {\n",
            "          \"id\": -1001982755738,\n",
            "          \"title\": \"Projeto - Data pipeline (EBAC)\",\n",
            "          \"type\": \"supergroup\"\n",
            "        },\n",
            "        \"date\": 1701118119,\n",
            "        \"text\": \"Tudo bem com voce?\",\n",
            "        \"has_protected_content\": true\n",
            "      }\n",
            "    },\n",
            "    {\n",
            "      \"update_id\": 187616241,\n",
            "      \"message\": {\n",
            "        \"message_id\": 7,\n",
            "        \"from\": {\n",
            "          \"id\": 6836214474,\n",
            "          \"is_bot\": false,\n",
            "          \"first_name\": \"Fernando Henrique\",\n",
            "          \"last_name\": \"Carneiro\",\n",
            "          \"username\": \"carneiro_fernando\",\n",
            "          \"language_code\": \"pt-br\"\n",
            "        },\n",
            "        \"chat\": {\n",
            "          \"id\": -1001982755738,\n",
            "          \"title\": \"Projeto - Data pipeline (EBAC)\",\n",
            "          \"type\": \"supergroup\"\n",
            "        },\n",
            "        \"date\": 1701118214,\n",
            "        \"photo\": [\n",
            "          {\n",
            "            \"file_id\": \"AgACAgEAAx0Cdi5zmgADB2VlAQa25YHSfyLK6sx-oeqRVes2AAK6rTEbPI0oR1W8OZL2ijS6AQADAgADbQADMwQ\",\n",
            "            \"file_unique_id\": \"AQADuq0xGzyNKEdy\",\n",
            "            \"file_size\": 1232,\n",
            "            \"width\": 48,\n",
            "            \"height\": 48\n",
            "          }\n",
            "        ],\n",
            "        \"has_protected_content\": true\n",
            "      }\n",
            "    },\n",
            "    {\n",
            "      \"update_id\": 187616242,\n",
            "      \"message\": {\n",
            "        \"message_id\": 8,\n",
            "        \"from\": {\n",
            "          \"id\": 6836214474,\n",
            "          \"is_bot\": false,\n",
            "          \"first_name\": \"Fernando Henrique\",\n",
            "          \"last_name\": \"Carneiro\",\n",
            "          \"username\": \"carneiro_fernando\",\n",
            "          \"language_code\": \"pt-br\"\n",
            "        },\n",
            "        \"chat\": {\n",
            "          \"id\": -1001982755738,\n",
            "          \"title\": \"Projeto - Data pipeline (EBAC)\",\n",
            "          \"type\": \"supergroup\"\n",
            "        },\n",
            "        \"date\": 1701118238,\n",
            "        \"voice\": {\n",
            "          \"duration\": 1,\n",
            "          \"mime_type\": \"audio/ogg\",\n",
            "          \"file_id\": \"AwACAgEAAx0Cdi5zmgADCGVlAR5KFHfvvDxsU1OgBRae8BObAALuAgACPI0oR-stNx0_mCmOMwQ\",\n",
            "          \"file_unique_id\": \"AgAD7gIAAjyNKEc\",\n",
            "          \"file_size\": 7829\n",
            "        },\n",
            "        \"has_protected_content\": true\n",
            "      }\n",
            "    }\n",
            "  ]\n",
            "}\n"
          ]
        }
      ]
    }
  ]
}