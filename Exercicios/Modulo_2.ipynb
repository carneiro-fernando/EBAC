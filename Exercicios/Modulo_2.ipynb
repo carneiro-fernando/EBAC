{
  "nbformat": 4,
  "nbformat_minor": 0,
  "metadata": {
    "colab": {
      "name": "Exercício Módulo 2 - EBAC.ipynb",
      "provenance": [],
      "collapsed_sections": [],
      "include_colab_link": true
    },
    "kernelspec": {
      "name": "python3",
      "display_name": "Python 3"
    }
  },
  "cells": [
    {
      "cell_type": "markdown",
      "metadata": {
        "id": "view-in-github",
        "colab_type": "text"
      },
      "source": [
        "<a href=\"https://colab.research.google.com/github/carneiro-fernando/Colab/blob/main/Exerc%C3%ADcio_M%C3%B3dulo_2_EBAC.ipynb\" target=\"_parent\"><img src=\"https://colab.research.google.com/assets/colab-badge.svg\" alt=\"Open In Colab\"/></a>"
      ]
    },
    {
      "cell_type": "markdown",
      "metadata": {
        "id": "KJqp9AANOCtf"
      },
      "source": [
        "<img src=\"https://raw.githubusercontent.com/andre-marcos-perez/ebac-course-utils/main/media/logo/newebac_logo_black_half.png\" alt=\"ebac-logo\">\n",
        "\n",
        "---\n",
        "\n",
        "# **Módulo** | Python: Estruturas de Dados\n",
        "Caderno de **Exercícios**<br> \n",
        "Professor [André Perez](https://www.linkedin.com/in/andremarcosperez/)\n",
        "\n",
        "---"
      ]
    },
    {
      "cell_type": "markdown",
      "metadata": {
        "id": "d9jDtUbDOE1-"
      },
      "source": [
        "# **Tópicos**\n",
        "\n",
        "<ol type=\"1\">\n",
        "  <li>Listas;</li>\n",
        "  <li>Conjuntos;</li>\n",
        "  <li>Dicionários.</li>\n",
        "</ol>"
      ]
    },
    {
      "cell_type": "markdown",
      "metadata": {
        "id": "SmoHgt-lwkpD"
      },
      "source": [
        "---"
      ]
    },
    {
      "cell_type": "markdown",
      "metadata": {
        "id": "GABI6OW8OfQ2"
      },
      "source": [
        "# **Exercícios**"
      ]
    },
    {
      "cell_type": "markdown",
      "metadata": {
        "id": "muD1vxozykSC"
      },
      "source": [
        "## 1\\. Listas"
      ]
    },
    {
      "cell_type": "markdown",
      "metadata": {
        "id": "ahrFfCuBxJKs"
      },
      "source": [
        "Criei uma lista chamada `filmes` com o nome dos 10 primeiros filmes mais bem avaliados no site no [IMDB](https://www.imdb.com/chart/top/). Imprima o resultado."
      ]
    },
    {
      "cell_type": "code",
      "metadata": {
        "id": "OgL6Hv3bzOHI",
        "colab": {
          "base_uri": "https://localhost:8080/"
        },
        "outputId": "fe88a6bb-d33a-418a-c7f6-91f27b155ed0"
      },
      "source": [
        "filmes = ['Um Sonho de Liberdade',\n",
        "'O Poderoso Chefão',\n",
        "'Batman: O Cavaleiro das Trevas',\n",
        "'O Poderoso Chefão II',\n",
        "'12 Homens e uma Sentença',\n",
        "'A Lista de Schindler',\n",
        "'O Senhor dos Anéis: O Retorno do Rei',\n",
        "'Pulp Fiction: Tempo de Violência',\n",
        "'O Senhor dos Anéis: A Sociedade do Anel',\n",
        "'Três Homens em Conflito']\n",
        "\n",
        "print(filmes)"
      ],
      "execution_count": 1,
      "outputs": [
        {
          "output_type": "stream",
          "name": "stdout",
          "text": [
            "['Um Sonho de Liberdade', 'O Poderoso Chefão', 'Batman: O Cavaleiro das Trevas', 'O Poderoso Chefão II', '12 Homens e uma Sentença', 'A Lista de Schindler', 'O Senhor dos Anéis: O Retorno do Rei', 'Pulp Fiction: Tempo de Violência', 'O Senhor dos Anéis: A Sociedade do Anel', 'Três Homens em Conflito']\n"
          ]
        }
      ]
    },
    {
      "cell_type": "markdown",
      "metadata": {
        "id": "KI9zQRT2xa7m"
      },
      "source": [
        "Simule a movimentação do *ranking*. Utilize os métodos `insert` e `pop` para trocar a posição do primeiro e do segundo filme da lista. Imprima o resultado.\n",
        "\n"
      ]
    },
    {
      "cell_type": "code",
      "metadata": {
        "id": "zX3mA3_GzrXH",
        "colab": {
          "base_uri": "https://localhost:8080/"
        },
        "outputId": "e9c1f595-d140-438b-d200-d5ac8cfbc10e"
      },
      "source": [
        "filmes.insert(1,filmes.pop(0))\n",
        "\n",
        "print(filmes)"
      ],
      "execution_count": 2,
      "outputs": [
        {
          "output_type": "stream",
          "name": "stdout",
          "text": [
            "['O Poderoso Chefão', 'Um Sonho de Liberdade', 'Batman: O Cavaleiro das Trevas', 'O Poderoso Chefão II', '12 Homens e uma Sentença', 'A Lista de Schindler', 'O Senhor dos Anéis: O Retorno do Rei', 'Pulp Fiction: Tempo de Violência', 'O Senhor dos Anéis: A Sociedade do Anel', 'Três Homens em Conflito']\n"
          ]
        }
      ]
    },
    {
      "cell_type": "markdown",
      "metadata": {
        "id": "zMN1Q3jdwoJm"
      },
      "source": [
        "---"
      ]
    },
    {
      "cell_type": "markdown",
      "metadata": {
        "id": "lxa5L6uF0ZJE"
      },
      "source": [
        "## 2\\. Conjuntos"
      ]
    },
    {
      "cell_type": "markdown",
      "metadata": {
        "id": "9JahS2Kj0d5u"
      },
      "source": [
        "Aconteceu um erro no seu *ranking*. Simule a duplicação dos três últimos filmes da lista. Imprima o resultado."
      ]
    },
    {
      "cell_type": "code",
      "metadata": {
        "id": "BnjnLBNC6PGe",
        "colab": {
          "base_uri": "https://localhost:8080/"
        },
        "outputId": "c7015c6d-a78f-456f-c63a-5df51c6b4f6e"
      },
      "source": [
        "filmes.append(filmes[len(filmes)-3])\n",
        "filmes.append(filmes[len(filmes)-3])\n",
        "filmes.append(filmes[len(filmes)-3])\n",
        "\n",
        "print(filmes)"
      ],
      "execution_count": 3,
      "outputs": [
        {
          "output_type": "stream",
          "name": "stdout",
          "text": [
            "['O Poderoso Chefão', 'Um Sonho de Liberdade', 'Batman: O Cavaleiro das Trevas', 'O Poderoso Chefão II', '12 Homens e uma Sentença', 'A Lista de Schindler', 'O Senhor dos Anéis: O Retorno do Rei', 'Pulp Fiction: Tempo de Violência', 'O Senhor dos Anéis: A Sociedade do Anel', 'Três Homens em Conflito', 'Pulp Fiction: Tempo de Violência', 'O Senhor dos Anéis: A Sociedade do Anel', 'Três Homens em Conflito']\n"
          ]
        }
      ]
    },
    {
      "cell_type": "markdown",
      "metadata": {
        "id": "suxTfCJB6ZiX"
      },
      "source": [
        "Utiliza a conversão `set` e `list` para remover os valores duplicados. Imprima o resultado. "
      ]
    },
    {
      "cell_type": "code",
      "metadata": {
        "id": "ZvUGN-0n6joM",
        "colab": {
          "base_uri": "https://localhost:8080/"
        },
        "outputId": "5e923cf8-73a3-4d9a-f5a0-e4ef2516ba14"
      },
      "source": [
        "\n",
        "\n",
        "print(list(set(filmes)))"
      ],
      "execution_count": 4,
      "outputs": [
        {
          "output_type": "stream",
          "name": "stdout",
          "text": [
            "['12 Homens e uma Sentença', 'O Senhor dos Anéis: A Sociedade do Anel', 'O Senhor dos Anéis: O Retorno do Rei', 'A Lista de Schindler', 'Batman: O Cavaleiro das Trevas', 'Um Sonho de Liberdade', 'Pulp Fiction: Tempo de Violência', 'Três Homens em Conflito', 'O Poderoso Chefão', 'O Poderoso Chefão II']\n"
          ]
        }
      ]
    },
    {
      "cell_type": "markdown",
      "metadata": {
        "id": "ShkK35eQ6pAM"
      },
      "source": [
        "---"
      ]
    },
    {
      "cell_type": "markdown",
      "metadata": {
        "id": "EL_FzmxL6rTv"
      },
      "source": [
        "## 3\\. Dicionários"
      ]
    },
    {
      "cell_type": "markdown",
      "metadata": {
        "id": "i8l0gFqRCpfT"
      },
      "source": [
        "Repita os exercícios da parte 1 (listas). Os elementos da lista `filmes` devem ser dicionários no seguinte formato: `{'nome': <nome-do-filme>, 'ano': <ano do filme>}, 'sinopse': <sinopse do filme>}`. "
      ]
    },
    {
      "cell_type": "code",
      "metadata": {
        "id": "tu6MSFwGDnHv",
        "colab": {
          "base_uri": "https://localhost:8080/"
        },
        "outputId": "357c78d3-900c-4b8c-b8d8-ec3d6abebd1e"
      },
      "source": [
        "filmes = []\n",
        "\n",
        "filmes = {'nome':'Um Sonho de Liberdade','ano': 1994,'sinopse': 'Integer id efficitur tellus, ac.'}, \\\n",
        "{'nome':'O Poderoso Chefão','ano': 1972,'sinopse': 'Morbi commodo ultrices lacus'}, \\\n",
        "{'nome':'Batman: O Cavaleiro das Trevas','ano': 2008,'sinopse': 'Curabitur a urna ac eros'},\\\n",
        "{'nome':'O Poderoso Chefão II','ano': 1974,'sinopse': 'Donec ullamcorper convallis malesuada'},\\\n",
        "{'nome':'12 Homens e uma Sentença','ano': 1957,'sinopse': 'Praesent non metus nec nibh'},\\\n",
        "{'nome':'A Lista de Schindler','ano': 1993,'sinopse': 'Aenean eu massa tempus, placerat'},\\\n",
        "{'nome':'O Senhor dos Anéis: O Retorno do Rei','ano': 2003,'sinopse': 'Morbi dapibus est ipsum, eget'},\\\n",
        "{'nome':'Pulp Fiction: Tempo de Violência','ano': 1994,'sinopse': 'Donec non rhoncus eros'},\\\n",
        "{'nome':'O Senhor dos Anéis: A Sociedade do Anel','ano': 2001,'sinopse': 'Sed egestas eget est ut'},\\\n",
        "{'nome':'Três Homens em Conflito','ano': 1966 ,'sinopse': 'Curabitur mattis purus vitae metus'}\n",
        "\n",
        "\n",
        "print(filmes)"
      ],
      "execution_count": 33,
      "outputs": [
        {
          "output_type": "stream",
          "name": "stdout",
          "text": [
            "({'nome': 'Um Sonho de Liberdade', 'ano': 1994, 'sinopse': 'Integer id efficitur tellus, ac.'}, {'nome': 'O Poderoso Chefão', 'ano': 1972, 'sinopse': 'Morbi commodo ultrices lacus'}, {'nome': 'Batman: O Cavaleiro das Trevas', 'ano': 2008, 'sinopse': 'Curabitur a urna ac eros'}, {'nome': 'O Poderoso Chefão II', 'ano': 1974, 'sinopse': 'Donec ullamcorper convallis malesuada'}, {'nome': '12 Homens e uma Sentença', 'ano': 1957, 'sinopse': 'Praesent non metus nec nibh'}, {'nome': 'A Lista de Schindler', 'ano': 1993, 'sinopse': 'Aenean eu massa tempus, placerat'}, {'nome': 'O Senhor dos Anéis: O Retorno do Rei', 'ano': 2003, 'sinopse': 'Morbi dapibus est ipsum, eget'}, {'nome': 'Pulp Fiction: Tempo de Violência', 'ano': 1994, 'sinopse': 'Donec non rhoncus eros'}, {'nome': 'O Senhor dos Anéis: A Sociedade do Anel', 'ano': 2001, 'sinopse': 'Sed egestas eget est ut'}, {'nome': 'Três Homens em Conflito', 'ano': 1966, 'sinopse': 'Curabitur mattis purus vitae metus'})\n"
          ]
        }
      ]
    },
    {
      "cell_type": "code",
      "source": [],
      "metadata": {
        "id": "WP67Zk2zk73u"
      },
      "execution_count": null,
      "outputs": []
    }
  ]
}
