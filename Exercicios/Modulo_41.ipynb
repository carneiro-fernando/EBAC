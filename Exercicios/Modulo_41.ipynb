{
  "nbformat": 4,
  "nbformat_minor": 0,
  "metadata": {
    "colab": {
      "provenance": [],
      "collapsed_sections": [
        "JG1HL69-j0lH",
        "s_Dj-BgThLg5",
        "jeEzLmuRhDQy",
        "PoTeRwlihDQ0",
        "QpMlxqRyhDQ1",
        "ov7Fg-mWhDQ1",
        "DvHPNAoPgdiG",
        "3SMp5GwjglJm",
        "e3ieQfXTgqd3",
        "L0pKWNr5fm9z",
        "DMhCpOU_gupo",
        "l3h0WP2Eg2ht",
        "rWG4Vk6XaWtf",
        "wkibgd8rB8y3",
        "IjPaJtnYE0MI",
        "2lpj1rszc--m",
        "HnWg_mhLd5gC",
        "RhqmXiHQo-is",
        "SvT9xrajLL7J",
        "91eSyA2cLLqv"
      ],
      "include_colab_link": true
    },
    "kernelspec": {
      "name": "python3",
      "display_name": "Python 3"
    }
  },
  "cells": [
    {
      "cell_type": "markdown",
      "metadata": {
        "id": "view-in-github",
        "colab_type": "text"
      },
      "source": [
        "<a href=\"https://colab.research.google.com/github/carneiro-fernando/EBAC/blob/main/Exercicios/Modulo_41.ipynb\" target=\"_parent\"><img src=\"https://colab.research.google.com/assets/colab-badge.svg\" alt=\"Open In Colab\"/></a>"
      ]
    },
    {
      "cell_type": "markdown",
      "metadata": {
        "id": "KJqp9AANOCtf"
      },
      "source": [
        "<img src=\"https://raw.githubusercontent.com/andre-marcos-perez/ebac-course-utils/main/media/logo/newebac_logo_black_half.png\" alt=\"ebac-logo\">\n",
        "\n",
        "---\n",
        "\n",
        "# **Módulo** | Big Data II - Armazenamento\n",
        "Caderno de **Exercícios**<br>\n",
        "Professor [André Perez](https://www.linkedin.com/in/andremarcosperez/)\n",
        "\n",
        "---"
      ]
    },
    {
      "cell_type": "markdown",
      "metadata": {
        "id": "d9jDtUbDOE1-"
      },
      "source": [
        "# **Tópicos**\n",
        "\n",
        "<ol type=\"1\">\n",
        "  <li>Introdução;</li>\n",
        "  <li>Orientação a coluna;</li>\n",
        "  <li>Particionamento.</li>\n",
        "</ol>"
      ]
    },
    {
      "cell_type": "markdown",
      "metadata": {
        "id": "SmoHgt-lwkpD"
      },
      "source": [
        "---"
      ]
    },
    {
      "cell_type": "markdown",
      "metadata": {
        "id": "GABI6OW8OfQ2"
      },
      "source": [
        "# **Exercícios**"
      ]
    },
    {
      "cell_type": "markdown",
      "metadata": {
        "id": "ne7Ay0HKaGSv"
      },
      "source": [
        "## 1\\. Particionamento e orientação a coluna."
      ]
    },
    {
      "cell_type": "markdown",
      "metadata": {
        "id": "OQxOVktrzG9I"
      },
      "source": [
        "Replique as atividades da aula 3 em sua conta da AWS."
      ]
    },
    {
      "cell_type": "markdown",
      "source": [
        "1.1. Faça o download do arquivo `crime.csv` (fonte [Kaggle](https://www.kaggle.com/yamqwe/chicago-crimee?select=chicago_crime_2014.csv))."
      ],
      "metadata": {
        "id": "E69nBHvAa_O5"
      }
    },
    {
      "cell_type": "code",
      "source": [
        "!wget https://raw.githubusercontent.com/andre-marcos-perez/ebac-course-utils/main/dataset/crime.csv -q -O crime.csv"
      ],
      "metadata": {
        "id": "qylvNY1EcHDr"
      },
      "execution_count": null,
      "outputs": []
    },
    {
      "cell_type": "markdown",
      "source": [
        "1.2. Leia os dados em um DataFrame Pandas e crie a coluna `reference_date`."
      ],
      "metadata": {
        "id": "R9Ils6eccOLS"
      }
    },
    {
      "cell_type": "code",
      "source": [
        "import pandas as pd\n",
        "from datetime import datetime\n",
        "\n",
        "#Criando o DataFrame\n",
        "filename = './crime'\n",
        "df = pd.read_csv(f'./{filename}.csv')\n",
        "\n",
        "#Criando a coluna reference_date\n",
        "df['reference_date'] = df['Date'].apply(lambda date: datetime.strptime(date.split(sep=' ')[0], '%m/%d/%Y').strftime('%Y-%m-%d'))"
      ],
      "metadata": {
        "id": "_13A2y77ccU6"
      },
      "execution_count": null,
      "outputs": []
    },
    {
      "cell_type": "markdown",
      "source": [
        "1.3. Persista o dado no DataFrame em um arquivo csv e em arquivos parquet, estes últimos comprimidos e particionados pela coluna `reference_date`."
      ],
      "metadata": {
        "id": "8oTn1Z1Md2GQ"
      }
    },
    {
      "cell_type": "code",
      "source": [
        "#Salvando no formato CSV\n",
        "df.to_csv('./crime_enriched.csv', sep=',', index=False)"
      ],
      "metadata": {
        "id": "6dpv2vcatYvJ"
      },
      "execution_count": null,
      "outputs": []
    },
    {
      "cell_type": "code",
      "source": [
        "#Salvando no formato Parquet\n",
        "df.to_parquet('./crime', engine='pyarrow', compression='gzip', partition_cols='reference_date')"
      ],
      "metadata": {
        "id": "bKOD0nEFtIUV"
      },
      "execution_count": null,
      "outputs": []
    },
    {
      "cell_type": "markdown",
      "source": [
        "1.4. Crie os recursos no AWS S3 e AWS IAM e persista os dados em seus respectivos *buckets*."
      ],
      "metadata": {
        "id": "LzXWWUWzeNxt"
      }
    },
    {
      "cell_type": "code",
      "source": [
        "from getpass import getpass\n",
        "print('Digite o usuário')\n",
        "aws_access_key_id = getpass()\n",
        "print('Digite a senha')\n",
        "aws_secret_access_key = getpass()"
      ],
      "metadata": {
        "id": "VZhq1Z3iMML8",
        "colab": {
          "base_uri": "https://localhost:8080/"
        },
        "outputId": "cd01cb66-23e6-40af-d609-e77289dda64e"
      },
      "execution_count": null,
      "outputs": [
        {
          "name": "stdout",
          "output_type": "stream",
          "text": [
            "Digite o usuário\n",
            "··········\n",
            "Digite a senha\n",
            "··········\n"
          ]
        }
      ]
    },
    {
      "cell_type": "code",
      "source": [
        "#Instalação do SDK Boto3\n",
        "!pip install boto3"
      ],
      "metadata": {
        "id": "PQXiK5nKMJKA",
        "colab": {
          "base_uri": "https://localhost:8080/"
        },
        "outputId": "fd27a2cb-cb12-4fd5-d5a4-72b368825079"
      },
      "execution_count": null,
      "outputs": [
        {
          "output_type": "stream",
          "name": "stdout",
          "text": [
            "Collecting boto3\n",
            "  Downloading boto3-1.28.67-py3-none-any.whl (135 kB)\n",
            "\u001b[2K     \u001b[90m━━━━━━━━━━━━━━━━━━━━━━━━━━━━━━━━━━━━━━━━\u001b[0m \u001b[32m135.8/135.8 kB\u001b[0m \u001b[31m4.2 MB/s\u001b[0m eta \u001b[36m0:00:00\u001b[0m\n",
            "\u001b[?25hCollecting botocore<1.32.0,>=1.31.67 (from boto3)\n",
            "  Downloading botocore-1.31.67-py3-none-any.whl (11.3 MB)\n",
            "\u001b[2K     \u001b[90m━━━━━━━━━━━━━━━━━━━━━━━━━━━━━━━━━━━━━━━━\u001b[0m \u001b[32m11.3/11.3 MB\u001b[0m \u001b[31m110.4 MB/s\u001b[0m eta \u001b[36m0:00:00\u001b[0m\n",
            "\u001b[?25hCollecting jmespath<2.0.0,>=0.7.1 (from boto3)\n",
            "  Downloading jmespath-1.0.1-py3-none-any.whl (20 kB)\n",
            "Collecting s3transfer<0.8.0,>=0.7.0 (from boto3)\n",
            "  Downloading s3transfer-0.7.0-py3-none-any.whl (79 kB)\n",
            "\u001b[2K     \u001b[90m━━━━━━━━━━━━━━━━━━━━━━━━━━━━━━━━━━━━━━━━\u001b[0m \u001b[32m79.8/79.8 kB\u001b[0m \u001b[31m9.4 MB/s\u001b[0m eta \u001b[36m0:00:00\u001b[0m\n",
            "\u001b[?25hRequirement already satisfied: python-dateutil<3.0.0,>=2.1 in /usr/local/lib/python3.10/dist-packages (from botocore<1.32.0,>=1.31.67->boto3) (2.8.2)\n",
            "Requirement already satisfied: urllib3<2.1,>=1.25.4 in /usr/local/lib/python3.10/dist-packages (from botocore<1.32.0,>=1.31.67->boto3) (2.0.7)\n",
            "Requirement already satisfied: six>=1.5 in /usr/local/lib/python3.10/dist-packages (from python-dateutil<3.0.0,>=2.1->botocore<1.32.0,>=1.31.67->boto3) (1.16.0)\n",
            "Installing collected packages: jmespath, botocore, s3transfer, boto3\n",
            "Successfully installed boto3-1.28.67 botocore-1.31.67 jmespath-1.0.1 s3transfer-0.7.0\n"
          ]
        }
      ]
    },
    {
      "cell_type": "code",
      "source": [
        "#Criação do client (AWS)\n",
        "import boto3\n",
        "\n",
        "client = boto3.client(\n",
        "  's3',\n",
        "  aws_access_key_id=aws_access_key_id,\n",
        "  aws_secret_access_key=aws_secret_access_key\n",
        ")"
      ],
      "metadata": {
        "id": "aD72G2s-MR7K"
      },
      "execution_count": null,
      "outputs": []
    },
    {
      "cell_type": "code",
      "source": [
        "#Upload dos arquivos\n",
        "import os\n",
        "\n",
        "BUCKET = 'ebac-modulo-41-parquet'\n",
        "\n",
        "i = 0\n",
        "\n",
        "for root, dirs, files in os.walk('./crime'):\n",
        "  elapsed = f'{round(100*i/365, 2)} %'\n",
        "  print(elapsed)\n",
        "  for file in files:\n",
        "    path = os.path.join(root, file)\n",
        "    bucket_path = '/'.join(path.split(sep='/')[2:])\n",
        "    client.upload_file(path, BUCKET, bucket_path)\n",
        "  i = i + 1\n"
      ],
      "metadata": {
        "id": "ox1qvbcbMcHD",
        "colab": {
          "base_uri": "https://localhost:8080/"
        },
        "outputId": "53e15fce-96fe-4c42-c433-864c39263820"
      },
      "execution_count": null,
      "outputs": [
        {
          "output_type": "stream",
          "name": "stdout",
          "text": [
            "0.0 %\n",
            "0.27 %\n",
            "0.55 %\n",
            "0.82 %\n",
            "1.1 %\n",
            "1.37 %\n",
            "1.64 %\n",
            "1.92 %\n",
            "2.19 %\n",
            "2.47 %\n",
            "2.74 %\n",
            "3.01 %\n",
            "3.29 %\n",
            "3.56 %\n",
            "3.84 %\n",
            "4.11 %\n",
            "4.38 %\n",
            "4.66 %\n",
            "4.93 %\n",
            "5.21 %\n",
            "5.48 %\n",
            "5.75 %\n",
            "6.03 %\n",
            "6.3 %\n",
            "6.58 %\n",
            "6.85 %\n",
            "7.12 %\n",
            "7.4 %\n",
            "7.67 %\n",
            "7.95 %\n",
            "8.22 %\n",
            "8.49 %\n",
            "8.77 %\n",
            "9.04 %\n",
            "9.32 %\n",
            "9.59 %\n",
            "9.86 %\n",
            "10.14 %\n",
            "10.41 %\n",
            "10.68 %\n",
            "10.96 %\n",
            "11.23 %\n",
            "11.51 %\n",
            "11.78 %\n",
            "12.05 %\n",
            "12.33 %\n",
            "12.6 %\n",
            "12.88 %\n",
            "13.15 %\n",
            "13.42 %\n",
            "13.7 %\n",
            "13.97 %\n",
            "14.25 %\n",
            "14.52 %\n",
            "14.79 %\n",
            "15.07 %\n",
            "15.34 %\n",
            "15.62 %\n",
            "15.89 %\n",
            "16.16 %\n",
            "16.44 %\n",
            "16.71 %\n",
            "16.99 %\n",
            "17.26 %\n",
            "17.53 %\n",
            "17.81 %\n",
            "18.08 %\n",
            "18.36 %\n",
            "18.63 %\n",
            "18.9 %\n",
            "19.18 %\n",
            "19.45 %\n",
            "19.73 %\n",
            "20.0 %\n",
            "20.27 %\n",
            "20.55 %\n",
            "20.82 %\n",
            "21.1 %\n",
            "21.37 %\n",
            "21.64 %\n",
            "21.92 %\n",
            "22.19 %\n",
            "22.47 %\n",
            "22.74 %\n",
            "23.01 %\n",
            "23.29 %\n",
            "23.56 %\n",
            "23.84 %\n",
            "24.11 %\n",
            "24.38 %\n",
            "24.66 %\n",
            "24.93 %\n",
            "25.21 %\n",
            "25.48 %\n",
            "25.75 %\n",
            "26.03 %\n",
            "26.3 %\n",
            "26.58 %\n",
            "26.85 %\n",
            "27.12 %\n",
            "27.4 %\n",
            "27.67 %\n",
            "27.95 %\n",
            "28.22 %\n",
            "28.49 %\n",
            "28.77 %\n",
            "29.04 %\n",
            "29.32 %\n",
            "29.59 %\n",
            "29.86 %\n",
            "30.14 %\n",
            "30.41 %\n",
            "30.68 %\n",
            "30.96 %\n",
            "31.23 %\n",
            "31.51 %\n",
            "31.78 %\n",
            "32.05 %\n",
            "32.33 %\n",
            "32.6 %\n",
            "32.88 %\n",
            "33.15 %\n",
            "33.42 %\n",
            "33.7 %\n",
            "33.97 %\n",
            "34.25 %\n",
            "34.52 %\n",
            "34.79 %\n",
            "35.07 %\n",
            "35.34 %\n",
            "35.62 %\n",
            "35.89 %\n",
            "36.16 %\n",
            "36.44 %\n",
            "36.71 %\n",
            "36.99 %\n",
            "37.26 %\n",
            "37.53 %\n",
            "37.81 %\n",
            "38.08 %\n",
            "38.36 %\n",
            "38.63 %\n",
            "38.9 %\n",
            "39.18 %\n",
            "39.45 %\n",
            "39.73 %\n",
            "40.0 %\n",
            "40.27 %\n",
            "40.55 %\n",
            "40.82 %\n",
            "41.1 %\n",
            "41.37 %\n",
            "41.64 %\n",
            "41.92 %\n",
            "42.19 %\n",
            "42.47 %\n",
            "42.74 %\n",
            "43.01 %\n",
            "43.29 %\n",
            "43.56 %\n",
            "43.84 %\n",
            "44.11 %\n",
            "44.38 %\n",
            "44.66 %\n",
            "44.93 %\n",
            "45.21 %\n",
            "45.48 %\n",
            "45.75 %\n",
            "46.03 %\n",
            "46.3 %\n",
            "46.58 %\n",
            "46.85 %\n",
            "47.12 %\n",
            "47.4 %\n",
            "47.67 %\n",
            "47.95 %\n",
            "48.22 %\n",
            "48.49 %\n",
            "48.77 %\n",
            "49.04 %\n",
            "49.32 %\n",
            "49.59 %\n",
            "49.86 %\n",
            "50.14 %\n",
            "50.41 %\n",
            "50.68 %\n",
            "50.96 %\n",
            "51.23 %\n",
            "51.51 %\n",
            "51.78 %\n",
            "52.05 %\n",
            "52.33 %\n",
            "52.6 %\n",
            "52.88 %\n",
            "53.15 %\n",
            "53.42 %\n",
            "53.7 %\n",
            "53.97 %\n",
            "54.25 %\n",
            "54.52 %\n",
            "54.79 %\n",
            "55.07 %\n",
            "55.34 %\n",
            "55.62 %\n",
            "55.89 %\n",
            "56.16 %\n",
            "56.44 %\n",
            "56.71 %\n",
            "56.99 %\n",
            "57.26 %\n",
            "57.53 %\n",
            "57.81 %\n",
            "58.08 %\n",
            "58.36 %\n",
            "58.63 %\n",
            "58.9 %\n",
            "59.18 %\n",
            "59.45 %\n",
            "59.73 %\n",
            "60.0 %\n",
            "60.27 %\n",
            "60.55 %\n",
            "60.82 %\n",
            "61.1 %\n",
            "61.37 %\n",
            "61.64 %\n",
            "61.92 %\n",
            "62.19 %\n",
            "62.47 %\n",
            "62.74 %\n",
            "63.01 %\n",
            "63.29 %\n",
            "63.56 %\n",
            "63.84 %\n",
            "64.11 %\n",
            "64.38 %\n",
            "64.66 %\n",
            "64.93 %\n",
            "65.21 %\n",
            "65.48 %\n",
            "65.75 %\n",
            "66.03 %\n",
            "66.3 %\n",
            "66.58 %\n",
            "66.85 %\n",
            "67.12 %\n",
            "67.4 %\n",
            "67.67 %\n",
            "67.95 %\n",
            "68.22 %\n",
            "68.49 %\n",
            "68.77 %\n",
            "69.04 %\n",
            "69.32 %\n",
            "69.59 %\n",
            "69.86 %\n",
            "70.14 %\n",
            "70.41 %\n",
            "70.68 %\n",
            "70.96 %\n",
            "71.23 %\n",
            "71.51 %\n",
            "71.78 %\n",
            "72.05 %\n",
            "72.33 %\n",
            "72.6 %\n",
            "72.88 %\n",
            "73.15 %\n",
            "73.42 %\n",
            "73.7 %\n",
            "73.97 %\n",
            "74.25 %\n",
            "74.52 %\n",
            "74.79 %\n",
            "75.07 %\n",
            "75.34 %\n",
            "75.62 %\n",
            "75.89 %\n",
            "76.16 %\n",
            "76.44 %\n",
            "76.71 %\n",
            "76.99 %\n",
            "77.26 %\n",
            "77.53 %\n",
            "77.81 %\n",
            "78.08 %\n",
            "78.36 %\n",
            "78.63 %\n",
            "78.9 %\n",
            "79.18 %\n",
            "79.45 %\n",
            "79.73 %\n",
            "80.0 %\n",
            "80.27 %\n",
            "80.55 %\n",
            "80.82 %\n",
            "81.1 %\n",
            "81.37 %\n",
            "81.64 %\n",
            "81.92 %\n",
            "82.19 %\n",
            "82.47 %\n",
            "82.74 %\n",
            "83.01 %\n",
            "83.29 %\n",
            "83.56 %\n",
            "83.84 %\n",
            "84.11 %\n",
            "84.38 %\n",
            "84.66 %\n",
            "84.93 %\n",
            "85.21 %\n",
            "85.48 %\n",
            "85.75 %\n",
            "86.03 %\n",
            "86.3 %\n",
            "86.58 %\n",
            "86.85 %\n",
            "87.12 %\n",
            "87.4 %\n",
            "87.67 %\n",
            "87.95 %\n",
            "88.22 %\n",
            "88.49 %\n",
            "88.77 %\n",
            "89.04 %\n",
            "89.32 %\n",
            "89.59 %\n",
            "89.86 %\n",
            "90.14 %\n",
            "90.41 %\n",
            "90.68 %\n",
            "90.96 %\n",
            "91.23 %\n",
            "91.51 %\n",
            "91.78 %\n",
            "92.05 %\n",
            "92.33 %\n",
            "92.6 %\n",
            "92.88 %\n",
            "93.15 %\n",
            "93.42 %\n",
            "93.7 %\n",
            "93.97 %\n",
            "94.25 %\n",
            "94.52 %\n",
            "94.79 %\n",
            "95.07 %\n",
            "95.34 %\n",
            "95.62 %\n",
            "95.89 %\n",
            "96.16 %\n",
            "96.44 %\n",
            "96.71 %\n",
            "96.99 %\n",
            "97.26 %\n",
            "97.53 %\n",
            "97.81 %\n",
            "98.08 %\n",
            "98.36 %\n",
            "98.63 %\n",
            "98.9 %\n",
            "99.18 %\n",
            "99.45 %\n",
            "99.73 %\n",
            "100.0 %\n"
          ]
        }
      ]
    },
    {
      "cell_type": "markdown",
      "source": [
        "### **3.3. AWS Athena**"
      ],
      "metadata": {
        "id": "nGD63S7KreZf"
      }
    },
    {
      "cell_type": "markdown",
      "source": [
        "1.5. Crie os recursos no AWS Athena e execute as consultas SQL da aula."
      ],
      "metadata": {
        "id": "_D2WT_iueaRr"
      }
    },
    {
      "cell_type": "markdown",
      "source": [
        "* **Criação das tabelas**\n",
        "> <img src=\"https://github.com/carneiro-fernando/EBAC/blob/main/assets/Images/Modulo_41/buckets.png?raw=true\">\n",
        "\n",
        "* **Criação do usuário programático**\n",
        "\n",
        "> <img src=\"https://github.com/carneiro-fernando/EBAC/blob/main/assets/Images/Modulo_41/usuario_criado.png?raw=true\">\n",
        "\n",
        "* **Criação da tabela *crime_csv***\n",
        "\n",
        "> <img src=\"https://github.com/carneiro-fernando/EBAC/blob/main/assets/Images/Modulo_41/tabela_csv.png?raw=true\">\n",
        "\n",
        "* **Criação da tabela *crime_parquet***\n",
        "\n",
        "> <img src=\"https://github.com/carneiro-fernando/EBAC/blob/main/assets/Images/Modulo_41/tabela_parquet.png?raw=true\">\n",
        "\n",
        "#### Queries da base de dados em *CSV*\n",
        "\n",
        "* **Query 1**\n",
        "\n",
        "> <img src=\"https://github.com/carneiro-fernando/EBAC/blob/main/assets/Images/Modulo_41/query_1_csv.png?raw=true\">\n",
        "\n",
        "* **Query 2**\n",
        "\n",
        "> <img src=\"https://github.com/carneiro-fernando/EBAC/blob/main/assets/Images/Modulo_41/query_2_csv.png?raw=true\">\n",
        "\n",
        "* **Query 3**\n",
        "\n",
        "> <img src=\"https://github.com/carneiro-fernando/EBAC/blob/main/assets/Images/Modulo_41/query_3_csv.png?raw=true\">\n",
        "\n",
        "#### Queries da base de dados em *Parquet*\n",
        "\n",
        "* **Query 1**\n",
        "\n",
        "> <img src=\"https://github.com/carneiro-fernando/EBAC/blob/main/assets/Images/Modulo_41/query_1_parquet.png?raw=true\">\n",
        "\n",
        "* **Query 2**\n",
        "\n",
        "> <img src=\"https://github.com/carneiro-fernando/EBAC/blob/main/assets/Images/Modulo_41/query_2_parquet.png?raw=true\">\n",
        "\n",
        "* **Query 3**\n",
        "\n",
        "> <img src=\"https://github.com/carneiro-fernando/EBAC/blob/main/assets/Images/Modulo_41/query_3_parquet.png?raw=true\">\n"
      ],
      "metadata": {
        "id": "GfOQIL3zyA08"
      }
    }
  ]
}