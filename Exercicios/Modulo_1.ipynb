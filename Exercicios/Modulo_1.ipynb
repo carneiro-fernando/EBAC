{
  "nbformat": 4,
  "nbformat_minor": 0,
  "metadata": {
    "colab": {
      "name": "module_1_exercise.ipynb",
      "provenance": [],
      "toc_visible": true,
      "collapsed_sections": [],
      "include_colab_link": true
    },
    "kernelspec": {
      "name": "python3",
      "display_name": "Python 3"
    }
  },
  "cells": [
    {
      "cell_type": "markdown",
      "metadata": {
        "id": "view-in-github",
        "colab_type": "text"
      },
      "source": [
        "<a href=\"https://colab.research.google.com/github/carneiro-fernando/Colab/blob/main/ExercicioModulo1.ipynb\" target=\"_parent\"><img src=\"https://colab.research.google.com/assets/colab-badge.svg\" alt=\"Open In Colab\"/></a>"
      ]
    },
    {
      "cell_type": "markdown",
      "metadata": {
        "id": "KJqp9AANOCtf"
      },
      "source": [
        "<img src=\"https://raw.githubusercontent.com/andre-marcos-perez/ebac-course-utils/main/media/logo/newebac_logo_black_half.png\" alt=\"ebac-logo\">\n",
        "\n",
        "---\n",
        "\n",
        "# **Módulo** | Python: Variáveis & Tipos de Dados\n",
        "Caderno de **Exercícios**<br> \n",
        "Professor [André Perez](https://www.linkedin.com/in/andremarcosperez/)\n",
        "\n",
        "---"
      ]
    },
    {
      "cell_type": "markdown",
      "metadata": {
        "id": "d9jDtUbDOE1-"
      },
      "source": [
        "# **Tópicos**\n",
        "\n",
        "<ol type=\"1\">\n",
        "  <li>Introdução ao Google Colab;</li>\n",
        "  <li>Variáveis;</li>\n",
        "  <li>Números;</li>\n",
        "  <li><i>Strings;</i></li>\n",
        "  <li>Boleanos.</li>\n",
        "</ol>"
      ]
    },
    {
      "cell_type": "markdown",
      "metadata": {
        "id": "SmoHgt-lwkpD"
      },
      "source": [
        "---"
      ]
    },
    {
      "cell_type": "markdown",
      "metadata": {
        "id": "GABI6OW8OfQ2"
      },
      "source": [
        "# **Exercícios**"
      ]
    },
    {
      "cell_type": "markdown",
      "metadata": {
        "id": "muD1vxozykSC"
      },
      "source": [
        "## 1\\. Google Colab"
      ]
    },
    {
      "cell_type": "markdown",
      "metadata": {
        "id": "ahrFfCuBxJKs"
      },
      "source": [
        "Crie uma célula de código que escreva o texto \"Olá mundo!\", utilize o comando `print`."
      ]
    },
    {
      "cell_type": "code",
      "source": [
        "print(\"Hello World!\")"
      ],
      "metadata": {
        "colab": {
          "base_uri": "https://localhost:8080/",
          "height": 0
        },
        "id": "ZbB1ahdtWMm8",
        "outputId": "2973f662-bf7a-46bf-93a1-e3997ed5d4ca"
      },
      "execution_count": 1,
      "outputs": [
        {
          "output_type": "stream",
          "name": "stdout",
          "text": [
            "Hello World!\n"
          ]
        }
      ]
    },
    {
      "cell_type": "markdown",
      "metadata": {
        "id": "zHN56QCZGHHE"
      },
      "source": [
        "---"
      ]
    },
    {
      "cell_type": "markdown",
      "metadata": {
        "id": "KI9zQRT2xa7m"
      },
      "source": [
        "Crie uma célua de texto e adicione uma imagem."
      ]
    },
    {
      "cell_type": "markdown",
      "source": [
        "![EBAC_LOGO.jpg](data:image/jpeg;base64,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)"
      ],
      "metadata": {
        "id": "0swBtbSmXbi9"
      }
    },
    {
      "cell_type": "markdown",
      "metadata": {
        "id": "tFYOPLS3xiwe"
      },
      "source": [
        "## 2\\. Números"
      ]
    },
    {
      "cell_type": "markdown",
      "metadata": {
        "id": "O2G9gt7tx2c-"
      },
      "source": [
        "Preencha as células de código para preencher os valores de (A), (B) e (C) na tabela de ticket médio abaixo:\n",
        "\n",
        "<br>\n",
        "\n",
        "| Dia   | Valor Total Vendas | Qtd Total Vendas | Ticket Medio |\n",
        "|-------|--------------------|------------------|--------------|\n",
        "| 19/01 | **961.56**         | 3                | 320.52       |\n",
        "| 20/01 | 834.47             | **7**            | 119.21       |\n",
        "| 23/01 | 15378.12           | 5                | **3075.62**  |"
      ]
    },
    {
      "cell_type": "code",
      "metadata": {
        "id": "nsrKH9EizNRD",
        "colab": {
          "base_uri": "https://localhost:8080/",
          "height": 0
        },
        "outputId": "31f7e8b2-783e-44ce-fd02-7fe493e3c593"
      },
      "source": [
        "A = 320.52*3\n",
        "print (\"(A) = \" + str(A))\n"
      ],
      "execution_count": 2,
      "outputs": [
        {
          "output_type": "stream",
          "name": "stdout",
          "text": [
            "(A) = 961.56\n"
          ]
        }
      ]
    },
    {
      "cell_type": "code",
      "metadata": {
        "id": "QQ1GBGHJzMmi",
        "colab": {
          "base_uri": "https://localhost:8080/",
          "height": 0
        },
        "outputId": "1b1b628f-1ab6-4338-a9c9-772afa6116c9"
      },
      "source": [
        "B = 834.47/119.21\n",
        "print (\"(B) = \" + str(round(B,2)))\n"
      ],
      "execution_count": 3,
      "outputs": [
        {
          "output_type": "stream",
          "name": "stdout",
          "text": [
            "(B) = 7.0\n"
          ]
        }
      ]
    },
    {
      "cell_type": "code",
      "metadata": {
        "id": "W-li0nSMzKNa",
        "colab": {
          "base_uri": "https://localhost:8080/",
          "height": 0
        },
        "outputId": "b6ae8f72-0ef7-42dd-977f-f9c5db2dd031"
      },
      "source": [
        "C = 15378.12/5\n",
        "print (\"(C) = \" + str(round(C,2)))"
      ],
      "execution_count": 4,
      "outputs": [
        {
          "output_type": "stream",
          "name": "stdout",
          "text": [
            "(C) = 3075.62\n"
          ]
        }
      ]
    },
    {
      "cell_type": "markdown",
      "metadata": {
        "id": "3eoP-Vj9yzh8"
      },
      "source": [
        "---"
      ]
    },
    {
      "cell_type": "markdown",
      "metadata": {
        "id": "yUJ6kdony6Pr"
      },
      "source": [
        "## 3\\. Strings"
      ]
    },
    {
      "cell_type": "markdown",
      "metadata": {
        "id": "KDuZpg-5zCvO"
      },
      "source": [
        "Aplique três métodos distintos na *string* abaixo, você pode conferir alguns métodos neste [link](https://www.w3schools.com/python/python_ref_string.asp):"
      ]
    },
    {
      "cell_type": "code",
      "metadata": {
        "id": "k9zbyf7BzjKj",
        "colab": {
          "base_uri": "https://localhost:8080/",
          "height": 0
        },
        "outputId": "ac536fa8-da0c-40c1-a4c0-c65da2f2a391"
      },
      "source": [
        "cancao = 'Roda mundo, roda gigante, roda moinho, roda pião.'\n",
        "\n",
        "# Método 1 \n",
        "print(cancao.casefold())\n",
        "\n",
        "# Método 2\n",
        "print(cancao.title())\n",
        "\n",
        "# Método 3\n",
        "print(cancao.swapcase())"
      ],
      "execution_count": 5,
      "outputs": [
        {
          "output_type": "stream",
          "name": "stdout",
          "text": [
            "roda mundo, roda gigante, roda moinho, roda pião.\n",
            "Roda Mundo, Roda Gigante, Roda Moinho, Roda Pião.\n",
            "rODA MUNDO, RODA GIGANTE, RODA MOINHO, RODA PIÃO.\n"
          ]
        }
      ]
    },
    {
      "cell_type": "markdown",
      "metadata": {
        "id": "guZMHXVq0FnC"
      },
      "source": [
        "Extraia da string abaixo o valor da taxa **selic** na variável `selic` e o valor do **ano** na variavel `ano`. Imprima os valores na tela."
      ]
    },
    {
      "cell_type": "code",
      "metadata": {
        "id": "cbx_P4IQ0agK",
        "colab": {
          "base_uri": "https://localhost:8080/",
          "height": 0
        },
        "outputId": "a97c1948-1ed3-407b-a2ac-7f605a7639ec"
      },
      "source": [
        "noticia = 'Selic vai a 2,75% e supera expectativas; é a primeira alta em 6 anos.'\n",
        "\n",
        "selic = noticia[noticia.find(\"2\"):noticia.find(\"2\")+4]\n",
        "ano = noticia[noticia.find(\"anos\")-2]\n",
        "\n",
        "print(\"O valor da taxa SELIC teve a maior alta em \" + ano + \" anos com o valor de \" + selic + \"%\")\n"
      ],
      "execution_count": 6,
      "outputs": [
        {
          "output_type": "stream",
          "name": "stdout",
          "text": [
            "O valor da taxa SELIC teve a maior alta em 6 anos com o valor de 2,75%\n"
          ]
        }
      ]
    },
    {
      "cell_type": "markdown",
      "metadata": {
        "id": "wWzbu-OC0z3L"
      },
      "source": [
        "---"
      ]
    },
    {
      "cell_type": "markdown",
      "metadata": {
        "id": "no8w_Ati01xP"
      },
      "source": [
        "## 4\\. Booleanos"
      ]
    },
    {
      "cell_type": "markdown",
      "metadata": {
        "id": "D_0tC3SC099N"
      },
      "source": [
        "Utilize a tabela da verdade para responder: qual o valor da variável x?"
      ]
    },
    {
      "cell_type": "code",
      "metadata": {
        "id": "XwIEbxf91SpU",
        "colab": {
          "base_uri": "https://localhost:8080/",
          "height": 0
        },
        "outputId": "796985a3-8218-4457-c9f6-57382b26a3aa"
      },
      "source": [
        "a = False\n",
        "b = True\n",
        "\n",
        "x = not a & b\n",
        "\n",
        "print(\"O valor de x é \" + str(x) + \", porque duas afirmações verdadeiras juntas do operador AND resulta em Verdadeiro(True)\")\n"
      ],
      "execution_count": 8,
      "outputs": [
        {
          "output_type": "stream",
          "name": "stdout",
          "text": [
            "O valor de x é True, porque duas afirmações verdadeiras juntas do operador AND resulta em Verdadeiro(True)\n"
          ]
        }
      ]
    },
    {
      "cell_type": "code",
      "source": [
        ""
      ],
      "metadata": {
        "id": "IUDXNe42X1zA"
      },
      "execution_count": null,
      "outputs": []
    }
  ]
}