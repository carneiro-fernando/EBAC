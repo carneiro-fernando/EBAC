{
  "nbformat": 4,
  "nbformat_minor": 0,
  "metadata": {
    "colab": {
      "provenance": [],
      "include_colab_link": true
    },
    "kernelspec": {
      "name": "python3",
      "display_name": "Python 3"
    }
  },
  "cells": [
    {
      "cell_type": "markdown",
      "metadata": {
        "id": "view-in-github",
        "colab_type": "text"
      },
      "source": [
        "<a href=\"https://colab.research.google.com/github/carneiro-fernando/EBAC/blob/main/Exercicios/Modulo_42_parte_2.ipynb\" target=\"_parent\"><img src=\"https://colab.research.google.com/assets/colab-badge.svg\" alt=\"Open In Colab\"/></a>"
      ]
    },
    {
      "cell_type": "markdown",
      "metadata": {
        "id": "KJqp9AANOCtf"
      },
      "source": [
        "<img src=\"https://raw.githubusercontent.com/andre-marcos-perez/ebac-course-utils/main/media/logo/newebac_logo_black_half.png\" alt=\"ebac-logo\">\n",
        "\n",
        "---\n",
        "\n",
        "# **Módulo** | Pipeline de Dados do Telegram II\n",
        "Caderno de **Exercícios**<br>\n",
        "Professor [André Perez](https://www.linkedin.com/in/andremarcosperez/)\n",
        "\n",
        "---"
      ]
    },
    {
      "cell_type": "markdown",
      "metadata": {
        "id": "d9jDtUbDOE1-"
      },
      "source": [
        "# **Tópicos**\n",
        "\n",
        "<ol type=\"1\">\n",
        "  <li>Ingestão;</li>\n",
        "  <li>ETL;</li>\n",
        "  <li>Apresentação;</li>\n",
        "  <li>Storytelling.</li>\n",
        "</ol>"
      ]
    },
    {
      "cell_type": "markdown",
      "metadata": {
        "id": "SmoHgt-lwkpD"
      },
      "source": [
        "---"
      ]
    },
    {
      "cell_type": "markdown",
      "metadata": {
        "id": "GABI6OW8OfQ2"
      },
      "source": [
        "# **Exercícios**"
      ]
    },
    {
      "cell_type": "markdown",
      "metadata": {
        "id": "ne7Ay0HKaGSv"
      },
      "source": [
        "## 1\\. Ingestão"
      ]
    },
    {
      "cell_type": "markdown",
      "metadata": {
        "id": "OQxOVktrzG9I"
      },
      "source": [
        "Replique as atividades da aula 1."
      ]
    },
    {
      "cell_type": "markdown",
      "source": [
        "1.1. Crie um `bucket` no `AWS S3` para o armazenamento de dados crus, não se esqueça de adicionar o sufixo `-raw`.\n",
        "\n",
        "> <img src=' https://github.com/carneiro-fernando/EBAC/blob/main/assets/Images/Projeto_Telegram_pipeline/bucket_creation.png?raw=true '>"
      ],
      "metadata": {
        "id": "C4_2Q6VxE7bZ"
      }
    },
    {
      "cell_type": "markdown",
      "source": [
        "1.2. Crie uma função no `AWS Lambda` para recebimento das mensagens e armazenamento no formato JSON no `bucket` de dados crus. Não se esqueça de configurar as variáveis de ambiente e de adicionar as permissão de interação com `AWS S3` no `AWS IAM`.\n",
        "\n",
        "> <img src=' https://github.com/carneiro-fernando/EBAC/blob/main/assets/Images/Projeto_Telegram_pipeline/raw_function_creation.png?raw=true '>"
      ],
      "metadata": {
        "id": "OFamvPQdFJ9V"
      }
    },
    {
      "cell_type": "markdown",
      "source": [
        "> **Nota**: Para testar a função com evento do próprio `AWS Lambda`, substitua o código `message = json.loads(event[\"body\"])` por `message = event`. Lembre-se que o primeiro só faz sentido na integração com o `AWS API Gateway`."
      ],
      "metadata": {
        "id": "E2E14I2YFkUW"
      }
    },
    {
      "cell_type": "markdown",
      "source": [
        "1.3. Crie uma API no `AWS API Gateway` a conecte a função do `AWS Lambda`, conforme apresentado na aula.\n",
        "\n",
        "> <img src=' https://github.com/carneiro-fernando/EBAC/blob/main/assets/Images/Projeto_Telegram_pipeline/API_creation.png?raw=true '>"
      ],
      "metadata": {
        "id": "JoZx3o2QGIx-"
      }
    },
    {
      "cell_type": "markdown",
      "source": [
        "> **Nota**: não disponibilize o endereço da API gerada."
      ],
      "metadata": {
        "id": "VRUI7edtGrot"
      }
    },
    {
      "cell_type": "markdown",
      "source": [
        "1.4. Configura o *webhook* do *bot* através do método `setWebhook` da API de *bots* do **Telegram**. utilize o endereço da API criada no `AWS API Gateway`. Utilize o método `getWebhookInfo` para consultar a integração.\n",
        "\n",
        "> <img src=' https://github.com/carneiro-fernando/EBAC/blob/main/assets/Images/Projeto_Telegram_pipeline/webhook_creation.png?raw=true '>\n",
        "\n",
        "> <img src='https://github.com/carneiro-fernando/EBAC/blob/main/assets/Images/Projeto_Telegram_pipeline/webhook_info.png?raw=true'>"
      ],
      "metadata": {
        "id": "2QhB4SmjGVDZ"
      }
    },
    {
      "cell_type": "markdown",
      "source": [
        "> **Nota**: não disponibilize o *token* de acesso ao seu *bot* da API de *bots* do **Telegram**."
      ],
      "metadata": {
        "id": "w6axVNYxG1I0"
      }
    },
    {
      "cell_type": "markdown",
      "metadata": {
        "id": "kQ-wge9yHCC3"
      },
      "source": [
        "## 2\\. ETL"
      ]
    },
    {
      "cell_type": "markdown",
      "metadata": {
        "id": "r1MneksdHCC6"
      },
      "source": [
        "Replique as atividades da aula 2."
      ]
    },
    {
      "cell_type": "markdown",
      "source": [
        "2.1. Crie um `bucket` no `AWS S3` para o armazenamento de dados enriquecidos, não se esqueça de adicionar o sufixo `-enriched`.\n",
        "\n",
        "> <img src='https://github.com/carneiro-fernando/EBAC/blob/main/assets/Images/Projeto_Telegram_pipeline/enriched_bucket_creation.png?raw=true'>"
      ],
      "metadata": {
        "id": "rCCWZtBCHCC7"
      }
    },
    {
      "cell_type": "markdown",
      "source": [
        "2.2. Cria uma função no `AWS Lambda` para processar as mensagens JSON de uma única partição do dia anterior (D-1), armazenadas no *bucket* de dados crus. Salve o resultado em um único arquivo PARQUET, também particionado por dia. Não se esqueça de configurar as variáveis de ambiente, de adicionar as permissão de interação com `AWS S3` no `AWS IAM`, de configurar o *timeout* e de adicionar a *layer* com o código do pacote Python PyArrow.\n",
        "\n",
        "> <img src='https://github.com/carneiro-fernando/EBAC/blob/main/assets/Images/Projeto_Telegram_pipeline/enriched_function_test.png?raw=true'>"
      ],
      "metadata": {
        "id": "cEb2SIgjHg5e"
      }
    },
    {
      "cell_type": "markdown",
      "source": [
        "> **Nota**: Para testar a função, substitua o código `date = (datetime.now(tzinfo) - timedelta(days=1)).strftime('%Y-%m-%d')` por `date = (datetime.now(tzinfo) - timedelta(days=0)).strftime('%Y-%m-%d')`, permitindo assim o processamento de mensagens de um mesmo dia."
      ],
      "metadata": {
        "id": "Yf5a_JKkIOdS"
      }
    },
    {
      "cell_type": "markdown",
      "source": [
        "2.3. Crie uma regra no `AWS Event Bridge` para executar a função do `AWS Lambda` todo dia a meia noite no horário de Brasília (GMT-3).\n",
        "\n",
        "> <img src='https://github.com/carneiro-fernando/EBAC/blob/main/assets/Images/Projeto_Telegram_pipeline/schedule_creation.png?raw=true'>\n",
        "> <img src='https://github.com/carneiro-fernando/EBAC/blob/main/assets/Images/Projeto_Telegram_pipeline/schedule_hour.png?raw=true'>"
      ],
      "metadata": {
        "id": "exu8rdDHHT_h"
      }
    },
    {
      "cell_type": "markdown",
      "metadata": {
        "id": "7v7499xfIjrn"
      },
      "source": [
        "## 3\\. Apresentação"
      ]
    },
    {
      "cell_type": "markdown",
      "metadata": {
        "id": "i4CBpJt3Ijrp"
      },
      "source": [
        "Replique as atividades da aula 3."
      ]
    },
    {
      "cell_type": "markdown",
      "source": [
        "3.1. Cria a tabela no `AWS Athena` que aponte para os dados armazenados no bucket enriquecido do `AWS S3`.\n",
        "\n",
        "> <img src='https://github.com/carneiro-fernando/EBAC/blob/main/assets/Images/Projeto_Telegram_pipeline/table_creation.png?raw=true'>"
      ],
      "metadata": {
        "id": "sN0dvM8tIviK"
      }
    },
    {
      "cell_type": "markdown",
      "source": [
        "3.2. Execute o comando `MSCK REPAIR TABLE <nome-tabela>` para carregar as partições.\n",
        "\n",
        "> <img src='https://github.com/carneiro-fernando/EBAC/blob/main/assets/Images/Projeto_Telegram_pipeline/partition_recognized.png?raw=true'>"
      ],
      "metadata": {
        "id": "w3Lf4CPsI--8"
      }
    },
    {
      "cell_type": "markdown",
      "source": [
        "3.3. Execute as consultas SQL para explorar os dados.\n",
        "\n",
        "> **Query 1**<img src='https://github.com/carneiro-fernando/EBAC/blob/main/assets/Images/Projeto_Telegram_pipeline/athenas_query_1.png?raw=true'>\n",
        "> **Query 2**<img src='https://github.com/carneiro-fernando/EBAC/blob/main/assets/Images/Projeto_Telegram_pipeline/athenas_query_2.png?raw=true'>\n",
        "> **Query 3**<img src='https://github.com/carneiro-fernando/EBAC/blob/main/assets/Images/Projeto_Telegram_pipeline/athenas_query_3.png?raw=true'>\n",
        "> **Query 4**<img src='https://github.com/carneiro-fernando/EBAC/blob/main/assets/Images/Projeto_Telegram_pipeline/athenas_query_4.png?raw=true'>\n",
        "> **Query 5** <img src='https://github.com/carneiro-fernando/EBAC/blob/main/assets/Images/Projeto_Telegram_pipeline/athenas_query_5.png?raw=true'>"
      ],
      "metadata": {
        "id": "5o3mNIKiJKqL"
      }
    },
    {
      "cell_type": "markdown",
      "metadata": {
        "id": "TwA9AmeSInp8"
      },
      "source": [
        "## 4\\. Storytelling"
      ]
    },
    {
      "cell_type": "markdown",
      "metadata": {
        "id": "Xhpcu4TNInp9"
      },
      "source": [
        "Siga as dicas da aula 4 para expor o seu projeto.\n",
        "\n",
        "\n",
        "> # **Github**: https://github.com/carneiro-fernando/EBAC/blob/main/Projetos/pipeline-aws-whatsapp-telegram.ipynb\n",
        "\n",
        "> # **Kaggle**: https://www.kaggle.com/code/carneirofernando/data-pipeline-aws-whatsapp-telegram\n",
        "\n"
      ]
    }
  ]
}